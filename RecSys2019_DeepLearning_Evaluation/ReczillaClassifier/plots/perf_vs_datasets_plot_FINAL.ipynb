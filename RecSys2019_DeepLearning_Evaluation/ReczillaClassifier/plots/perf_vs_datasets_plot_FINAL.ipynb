{
 "cells": [
  {
   "cell_type": "code",
   "execution_count": 2,
   "id": "ea311c05-d02b-4fa3-9db8-6bd373d52600",
   "metadata": {},
   "outputs": [
    {
     "name": "stderr",
     "output_type": "stream",
     "text": [
      "\n",
      "Bad key savefig.frameon in file /Users/duncan/miniconda3/envs/recsys/lib/python3.6/site-packages/matplotlib/mpl-data/stylelib/_classic_test.mplstyle, line 421 ('savefig.frameon : True')\n",
      "You probably need to get an updated matplotlibrc file from\n",
      "https://github.com/matplotlib/matplotlib/blob/v3.3.4/matplotlibrc.template\n",
      "or from the matplotlib source distribution\n",
      "\n",
      "Bad key verbose.level in file /Users/duncan/miniconda3/envs/recsys/lib/python3.6/site-packages/matplotlib/mpl-data/stylelib/_classic_test.mplstyle, line 472 ('verbose.level  : silent      # one of silent, helpful, debug, debug-annoying')\n",
      "You probably need to get an updated matplotlibrc file from\n",
      "https://github.com/matplotlib/matplotlib/blob/v3.3.4/matplotlibrc.template\n",
      "or from the matplotlib source distribution\n",
      "\n",
      "Bad key verbose.fileo in file /Users/duncan/miniconda3/envs/recsys/lib/python3.6/site-packages/matplotlib/mpl-data/stylelib/_classic_test.mplstyle, line 473 ('verbose.fileo  : sys.stdout  # a log filename, sys.stdout or sys.stderr')\n",
      "You probably need to get an updated matplotlibrc file from\n",
      "https://github.com/matplotlib/matplotlib/blob/v3.3.4/matplotlibrc.template\n",
      "or from the matplotlib source distribution\n",
      "In /Users/duncan/miniconda3/envs/recsys/lib/python3.6/site-packages/matplotlib/mpl-data/stylelib/_classic_test.mplstyle: \n",
      "The text.latex.preview rcparam was deprecated in Matplotlib 3.3 and will be removed two minor releases later.\n",
      "In /Users/duncan/miniconda3/envs/recsys/lib/python3.6/site-packages/matplotlib/mpl-data/stylelib/_classic_test.mplstyle: \n",
      "The mathtext.fallback_to_cm rcparam was deprecated in Matplotlib 3.3 and will be removed two minor releases later.\n",
      "In /Users/duncan/miniconda3/envs/recsys/lib/python3.6/site-packages/matplotlib/mpl-data/stylelib/_classic_test.mplstyle: Support for setting the 'mathtext.fallback_to_cm' rcParam is deprecated since 3.3 and will be removed two minor releases later; use 'mathtext.fallback : 'cm' instead.\n",
      "In /Users/duncan/miniconda3/envs/recsys/lib/python3.6/site-packages/matplotlib/mpl-data/stylelib/_classic_test.mplstyle: \n",
      "The validate_bool_maybe_none function was deprecated in Matplotlib 3.3 and will be removed two minor releases later.\n",
      "In /Users/duncan/miniconda3/envs/recsys/lib/python3.6/site-packages/matplotlib/mpl-data/stylelib/_classic_test.mplstyle: \n",
      "The savefig.jpeg_quality rcparam was deprecated in Matplotlib 3.3 and will be removed two minor releases later.\n",
      "In /Users/duncan/miniconda3/envs/recsys/lib/python3.6/site-packages/matplotlib/mpl-data/stylelib/_classic_test.mplstyle: \n",
      "The keymap.all_axes rcparam was deprecated in Matplotlib 3.3 and will be removed two minor releases later.\n",
      "In /Users/duncan/miniconda3/envs/recsys/lib/python3.6/site-packages/matplotlib/mpl-data/stylelib/_classic_test.mplstyle: \n",
      "The animation.avconv_path rcparam was deprecated in Matplotlib 3.3 and will be removed two minor releases later.\n",
      "In /Users/duncan/miniconda3/envs/recsys/lib/python3.6/site-packages/matplotlib/mpl-data/stylelib/_classic_test.mplstyle: \n",
      "The animation.avconv_args rcparam was deprecated in Matplotlib 3.3 and will be removed two minor releases later.\n"
     ]
    }
   ],
   "source": [
    "import pickle\n",
    "from typing import DefaultDict\n",
    "import numpy as np\n",
    "import pandas as pd\n",
    "import matplotlib.pyplot as plt\n",
    "\n",
    "\n",
    "# results_file = open('/Users/duncan/Downloads/meta_perf_vs_num_train.pkl', 'rb')\n",
    "results_file = open('/Users/duncan/Downloads/meta_perf_vs_num_train_fixed_200trials.pkl', 'rb')  # new file\n",
    "all_results = pickle.load(results_file)\n",
    "results_file.close()"
   ]
  },
  {
   "cell_type": "code",
   "execution_count": 3,
   "id": "80bdbfdd",
   "metadata": {},
   "outputs": [],
   "source": [
    "### Helper\n",
    "\n",
    "from matplotlib import transforms\n",
    "\n",
    "\n",
    "def draw_dodge(*args, **kwargs):\n",
    "    func = args[0]\n",
    "    dodge = kwargs.pop(\"dodge\", 0)\n",
    "    ax = kwargs.pop(\"ax\", plt.gca())\n",
    "    trans = ax.transData  + transforms.ScaledTranslation(dodge/72., 0,\n",
    "                                   ax.figure.dpi_scale_trans)\n",
    "    artist = func(*args[1:], **kwargs)\n",
    "    def iterate(artist):\n",
    "        if hasattr(artist, '__iter__'):\n",
    "            for obj in artist:\n",
    "                iterate(obj)\n",
    "        else:\n",
    "            artist.set_transform(trans)\n",
    "    iterate(artist)\n",
    "    return artist\n"
   ]
  },
  {
   "cell_type": "code",
   "execution_count": 4,
   "id": "f05a84c6-9072-4cfe-8323-1b3368332819",
   "metadata": {},
   "outputs": [],
   "source": [
    "# (num_trials is just used to verify all evaluations succeeded)\n",
    "num_trials = 200\n",
    "metric = \"perc_diff_from_best_global\"\n",
    "#metric = 'mae'\n",
    "\n",
    "models = ['xgboost', 'random', 'knn', 'linear']"
   ]
  },
  {
   "cell_type": "code",
   "execution_count": 5,
   "id": "9db7d2a0",
   "metadata": {},
   "outputs": [],
   "source": [
    "\n",
    "\n",
    "results_per_model = {model: DefaultDict(list) for model in models}\n",
    "for dataset in all_results:\n",
    "    for trial in all_results[dataset]:\n",
    "        num_train = all_results[dataset][trial]['num_train']\n",
    "        for model in all_results[dataset][trial]:\n",
    "            # note: it's not so safe to do this, where we throw away the the num_* and hard-code it later.\n",
    "            if model in ['num_train', 'num_algs', 'num_feats']: continue\n",
    "            for n_train, perf in zip(num_train, all_results[dataset][trial][model]):\n",
    "                results_per_model[model][n_train].append(perf[metric])\n",
    "\n"
   ]
  },
  {
   "cell_type": "code",
   "execution_count": 6,
   "id": "1ebf7f6a",
   "metadata": {},
   "outputs": [],
   "source": [
    "medians = {}\n",
    "means = {}\n",
    "p1s = {}\n",
    "p3s = {}\n",
    "for model in models:\n",
    "    means[model] = []\n",
    "    medians[model] = []\n",
    "    p1s[model] = []\n",
    "    p3s[model] = []\n",
    "    # needs to match the range in the python file\n",
    "    for n_train in range(2, 20, 2):\n",
    "        assert len(results_per_model[model][n_train]) == 19 * num_trials\n",
    "        means[model].append(np.mean(results_per_model[model][n_train]))\n",
    "        medians[model].append(np.median(results_per_model[model][n_train]))\n",
    "        p1s[model].append(np.percentile(results_per_model[model][n_train], 40))\n",
    "        p3s[model].append(np.percentile(results_per_model[model][n_train], 60))"
   ]
  },
  {
   "cell_type": "code",
   "execution_count": 34,
   "id": "fdf96e99",
   "metadata": {},
   "outputs": [
    {
     "data": {
      "image/png": "[encoded data removed]",
      "text/plain": [
       "<Figure size 324x252 with 1 Axes>"
      ]
     },
     "metadata": {
      "needs_background": "light"
     },
     "output_type": "display_data"
    }
   ],
   "source": [
    "method_dict = {\n",
    "    \"xgboost\": {\n",
    "        \"name\": \"XGB\",\n",
    "        \"kwargs\": {\n",
    "            \"marker\": \"v\",\n",
    "            \"color\": \"blue\",\n",
    "            \"linestyle\": \"--\",\n",
    "        }\n",
    "    },\n",
    "    \"linear\": {\n",
    "        \"name\": \"Linear\",\n",
    "        \"kwargs\": {\n",
    "            \"marker\": \"D\",\n",
    "            \"color\": \"green\",\n",
    "            \"linestyle\": \":\",\n",
    "        }\n",
    "    },    \n",
    "    \"knn\": {\n",
    "        \"name\": \"KNN\",\n",
    "        \"kwargs\": {\n",
    "            \"marker\": \"^\",\n",
    "            \"color\": \"red\",\n",
    "            \"linestyle\": \"-.\",\n",
    "        }\n",
    "    },\n",
    "    \"random\": {\n",
    "        \"name\": \"Random\",\n",
    "        \"kwargs\": {\n",
    "            \"marker\": \"o\",\n",
    "            \"color\": \"gray\",\n",
    "            \"linestyle\": \"-\",\n",
    "        }\n",
    "    }\n",
    "}\n",
    "\n",
    "\n",
    "dodge = np.arange(4,dtype=float)*3\n",
    "dodge -= dodge.mean()\n",
    "\n",
    "\n",
    "# plot with fill between 40-60% of trials\n",
    "\n",
    "# note: when plotting mae, random and linear are very bad\n",
    "\n",
    "x = [i for i in range(2, 20, 2)]\n",
    "\n",
    "fig, ax = plt.subplots(figsize=(4.5, 3.5))\n",
    "\n",
    "for i,model in enumerate(models):\n",
    "    # plt.plot(x, medians[model], label=method_dict[model][\"name\"], **method_dict[model][\"kwargs\"])\n",
    "    # plt.fill_between(x, p1s[model], p3s[model], alpha=0.1, color=method_dict[model][\"kwargs\"][\"color\"])\n",
    "    yerr = np.array([(x - small, large - x) for x, small, large in zip(medians[model], p1s[model], p3s[model])]).T\n",
    "    # err_minus = [x - small for m, small in zip(medians[model], p1s[model])]\n",
    "    # plt.errorbar(x, medians[model], yerr=yerr, capsize=4, **method_dict[model][\"kwargs\"])\n",
    "    draw_dodge(ax.errorbar, x, medians[model], yerr=yerr, ax=ax, dodge=dodge[i], capsize=4, markersize=7.5, label=method_dict[model][\"name\"], **method_dict[model][\"kwargs\"])\n",
    "\n",
    "ax.set_xticks(np.arange(2, 19, 2))\n",
    "plt.legend()\n",
    "plt.xlabel('# training dataset families')\n",
    "plt.ylabel('Percentage diff. from best')\n",
    "plt.tight_layout()\n",
    "plt.savefig('./plot_files/perf_vs_datasets_plot.pdf')\n",
    "plt.show()\n",
    "\n"
   ]
  },
  {
   "cell_type": "code",
   "execution_count": null,
   "id": "7a1a188f",
   "metadata": {},
   "outputs": [],
   "source": []
  }
 ],
 "metadata": {
  "kernelspec": {
   "display_name": "Python 3",
   "language": "python",
   "name": "python3"
  },
  "language_info": {
   "codemirror_mode": {
    "name": "ipython",
    "version": 3
   },
   "file_extension": ".py",
   "mimetype": "text/x-python",
   "name": "python",
   "nbconvert_exporter": "python",
   "pygments_lexer": "ipython3",
   "version": "3.6.13"
  }
 },
 "nbformat": 4,
 "nbformat_minor": 5
}
