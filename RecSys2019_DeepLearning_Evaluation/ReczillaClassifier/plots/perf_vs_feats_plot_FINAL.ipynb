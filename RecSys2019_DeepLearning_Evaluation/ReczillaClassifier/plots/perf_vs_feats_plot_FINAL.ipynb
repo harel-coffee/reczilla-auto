{
 "cells": [
  {
   "cell_type": "code",
   "execution_count": 1,
   "id": "a4de9424",
   "metadata": {},
   "outputs": [],
   "source": [
    "%load_ext autoreload\n",
    "%autoreload 2\n",
    "%matplotlib inline"
   ]
  },
  {
   "cell_type": "code",
   "execution_count": 8,
   "id": "6f26f41e",
   "metadata": {},
   "outputs": [],
   "source": [
    "import pickle\n",
    "from typing import DefaultDict\n",
    "import numpy as np\n",
    "import matplotlib.pyplot as plt\n",
    "import matplotlib\n",
    "matplotlib.rcParams['pdf.fonttype'] = 42\n",
    "plt.rcParams['text.usetex'] = True\n"
   ]
  },
  {
   "cell_type": "code",
   "execution_count": 9,
   "id": "df7dcb60",
   "metadata": {},
   "outputs": [],
   "source": [
    "### Helper\n",
    "\n",
    "from matplotlib import transforms\n",
    "\n",
    "\n",
    "def draw_dodge(*args, **kwargs):\n",
    "    func = args[0]\n",
    "    dodge = kwargs.pop(\"dodge\", 0)\n",
    "    ax = kwargs.pop(\"ax\", plt.gca())\n",
    "    trans = ax.transData  + transforms.ScaledTranslation(dodge/72., 0,\n",
    "                                   ax.figure.dpi_scale_trans)\n",
    "    artist = func(*args[1:], **kwargs)\n",
    "    def iterate(artist):\n",
    "        if hasattr(artist, '__iter__'):\n",
    "            for obj in artist:\n",
    "                iterate(obj)\n",
    "        else:\n",
    "            artist.set_transform(trans)\n",
    "    iterate(artist)\n",
    "    return artist\n"
   ]
  },
  {
   "cell_type": "code",
   "execution_count": 10,
   "id": "0943d0b2",
   "metadata": {},
   "outputs": [],
   "source": [
    "# load the results\n",
    "\n",
    "# results_file = open('../results/meta_perf_vs_num_feats_fixed.pkl', 'rb')\n",
    "results_file = open('/Users/duncan/Downloads/meta_perf_vs_num_feats_fixed.pkl', 'rb')  # new file\n",
    "# results_file = open('/Users/duncan/Downloads/meta_perf_vs_num_feats_fixed_5trials.pkl', 'rb')  # new file\n",
    "all_results = pickle.load(results_file)\n",
    "results_file.close()"
   ]
  },
  {
   "cell_type": "code",
   "execution_count": 11,
   "id": "2fea7642",
   "metadata": {},
   "outputs": [],
   "source": [
    "# (num_trials is just used to verify all evaluations succeeded)\n",
    "num_trials = 50\n",
    "metric = \"perc_diff_from_best_global\"\n",
    "#metric = 'mae'\n",
    "NUM_FEATS_LIST = [4, 8, 12, 16, 20, 24, 28, 32, 36, 40]\n",
    "# the way this is done now, this needs to exactly match the range from the python file that generated the pickle file.\n",
    "# NUM_FEATS_LIST = [1, 2, 3, 6, 10, 19, 35, 64, 117, 211, 382]\n",
    "# NUM_FEATS_LIST = [2, 4, 8, 12, 16, 20, 24, 28, 32, 36, 40]\n",
    "# computed using \n",
    "# [int(j) for j in np.logspace(start=0.9, stop=np.log(382)/np.log(2), num=10, endpoint=True, base=2.0)]\n",
    "# and then adding \"2\"\n",
    "\n",
    "models = ['xgboost', 'random', 'knn', 'linear']"
   ]
  },
  {
   "cell_type": "code",
   "execution_count": 12,
   "id": "e99f614f",
   "metadata": {},
   "outputs": [],
   "source": [
    "results_per_model = {model: DefaultDict(list) for model in models}\n",
    "for dataset in all_results:\n",
    "    for trial in all_results[dataset]:\n",
    "        num_feats = all_results[dataset][trial]['num_feats']\n",
    "        for model in all_results[dataset][trial]:\n",
    "            # note: it's not so safe to do this, where we throw away the the num_* and hard-code it later.\n",
    "            if model in ['num_train', 'num_algs', 'num_feats']: continue\n",
    "            for n_feats, perf in zip(num_feats, all_results[dataset][trial][model]):\n",
    "                results_per_model[model][n_feats].append(perf[metric])"
   ]
  },
  {
   "cell_type": "code",
   "execution_count": 15,
   "id": "486219bb",
   "metadata": {},
   "outputs": [],
   "source": [
    "multiply_factor = 100.0\n",
    "\n",
    "means = {}\n",
    "medians = {}\n",
    "p1s = {}\n",
    "p3s = {}\n",
    "for model in models:\n",
    "    means[model] = []\n",
    "    medians[model] = []\n",
    "    p1s[model] = []\n",
    "    p3s[model] = []\n",
    "    # needs to match the range in the python file\n",
    "    for n_feats in NUM_FEATS_LIST:\n",
    "        assert len(results_per_model[model][n_feats]) == 19 * num_trials, print(f\"it looks like num trials is: {len(results_per_model[model][n_feats])/19.0} for model={model}, n_feats={n_feats}\")\n",
    "        means[model].append(multiply_factor * np.mean(results_per_model[model][n_feats]))\n",
    "        medians[model].append(multiply_factor * np.mean(results_per_model[model][n_feats]))\n",
    "        p1s[model].append(multiply_factor * np.percentile(results_per_model[model][n_feats], 40))\n",
    "        p3s[model].append(multiply_factor * np.percentile(results_per_model[model][n_feats], 60))\n"
   ]
  },
  {
   "cell_type": "code",
   "execution_count": 42,
   "id": "175d291f",
   "metadata": {},
   "outputs": [
    {
     "data": {
      "image/png": "[encoded data removed]",
      "text/plain": [
       "<Figure size 288x216 with 1 Axes>"
      ]
     },
     "metadata": {
      "needs_background": "light"
     },
     "output_type": "display_data"
    }
   ],
   "source": [
    "method_dict = {\n",
    "    \"xgboost\": {\n",
    "        \"name\": \"XGB\",\n",
    "        \"kwargs\": {\n",
    "            \"marker\": \"v\",\n",
    "            \"color\": \"blue\",\n",
    "            \"linestyle\": \"--\",\n",
    "        }\n",
    "    },\n",
    "    \"linear\": {\n",
    "        \"name\": \"Linear\",\n",
    "        \"kwargs\": {\n",
    "            \"marker\": \"D\",\n",
    "            \"color\": \"green\",\n",
    "            \"linestyle\": \":\",\n",
    "        }\n",
    "    },    \n",
    "    \"knn\": {\n",
    "        \"name\": \"KNN\",\n",
    "        \"kwargs\": {\n",
    "            \"marker\": \"^\",\n",
    "            \"color\": \"red\",\n",
    "            \"linestyle\": \"-.\",\n",
    "        }\n",
    "    },\n",
    "    \"random\": {\n",
    "        \"name\": \"Random\",\n",
    "        \"kwargs\": {\n",
    "            \"marker\": \"o\",\n",
    "            \"color\": \"gray\",\n",
    "            \"linestyle\": \"-\",\n",
    "        }\n",
    "    }\n",
    "}\n",
    "\n",
    "\n",
    "dodge = np.arange(4,dtype=float)*3\n",
    "dodge -= dodge.mean()\n",
    "\n",
    "\n",
    "# plot %Diff\n",
    "metric = \"perc_diff_from_best_global\"\n",
    "y_axis_label = \"\\\\texttt{\\\\%Diff}\"\n",
    "\n",
    "\n",
    "# plot with fill between 40-60% of trials\n",
    "\n",
    "x = NUM_FEATS_LIST\n",
    "\n",
    "fig, ax = plt.subplots(figsize=(4, 3))\n",
    "\n",
    "for i,model in enumerate(models):\n",
    "    # plt.plot(x, medians[model], label=method_dict[model][\"name\"], **method_dict[model][\"kwargs\"])\n",
    "    # plt.fill_between(x, p1s[model], p3s[model], alpha=0.1, color=method_dict[model][\"kwargs\"][\"color\"])\n",
    "    yerr = np.array([(x - small, large - x) for x, small, large in zip(medians[model], p1s[model], p3s[model])]).T\n",
    "    # err_minus = [x - small for m, small in zip(medians[model], p1s[model])]\n",
    "    # plt.errorbar(x, medians[model], yerr=yerr, capsize=4, **method_dict[model][\"kwargs\"])\n",
    "    draw_dodge(ax.errorbar, x, medians[model], yerr=yerr, ax=ax, dodge=dodge[i], capsize=4, markersize=7.5, label=method_dict[model][\"name\"], **method_dict[model][\"kwargs\"])\n",
    "\n",
    "\n",
    "matplotlib.rcParams['xtick.minor.size'] = 0\n",
    "matplotlib.rcParams['xtick.minor.width'] = 0\n",
    "\n",
    "plt.xscale('log')\n",
    "# ax.set_xticks([5, 10, 50])\n",
    "ax.xaxis.set_major_formatter(matplotlib.ticker.ScalarFormatter())\n",
    "# ax.set_xticks( np.geomspace(4, 40 ,10).round())\n",
    "ax.set_xticks([4, 8, 12, 20, 28, 40]) # NUM_FEATS_LIST = \n",
    "ax.xaxis.set_minor_formatter(matplotlib.ticker.NullFormatter())\n",
    "\n",
    "plt.legend()\n",
    "plt.xlabel('Num. Meta-features')\n",
    "plt.ylabel(y_axis_label)\n",
    "plt.tight_layout()\n",
    "plt.savefig('./plot_files/perf_vs_feats_plot.pdf', bbox_inches=\"tight\", pad_inches=0)\n",
    "plt.show()\n",
    "\n"
   ]
  },
  {
   "cell_type": "code",
   "execution_count": 10,
   "id": "1aa72252",
   "metadata": {},
   "outputs": [
    {
     "data": {
      "image/png": "[encoded data removed]",
      "text/plain": [
       "<Figure size 432x288 with 1 Axes>"
      ]
     },
     "metadata": {
      "needs_background": "light"
     },
     "output_type": "display_data"
    }
   ],
   "source": [
    "# old plot, with no error bars\n",
    "\n",
    "x = NUM_FEATS_LIST\n",
    "\n",
    "for model in models:\n",
    "    y = means[model]\n",
    "    plt.plot(x, y, label = model)\n",
    "\n",
    "plt.xscale('log')\n",
    "plt.legend()\n",
    "plt.xlabel('# feats')\n",
    "plt.ylabel('Percentage diff. from best')\n",
    "\n",
    "plt.savefig('saved_plots/perf_vs_datasets_plot.png', dpi=160)\n",
    "plt.show()"
   ]
  },
  {
   "cell_type": "code",
   "execution_count": null,
   "id": "a9ea1620",
   "metadata": {},
   "outputs": [],
   "source": []
  }
 ],
 "metadata": {
  "kernelspec": {
   "display_name": "Python 3",
   "language": "python",
   "name": "python3"
  },
  "language_info": {
   "codemirror_mode": {
    "name": "ipython",
    "version": 3
   },
   "file_extension": ".py",
   "mimetype": "text/x-python",
   "name": "python",
   "nbconvert_exporter": "python",
   "pygments_lexer": "ipython3",
   "version": "3.6.13"
  }
 },
 "nbformat": 4,
 "nbformat_minor": 5
}
