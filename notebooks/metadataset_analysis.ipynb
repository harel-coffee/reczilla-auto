{
 "cells": [
  {
   "cell_type": "markdown",
   "id": "33cf6643",
   "metadata": {},
   "source": [
    "# Metadataset trends\n",
    "- This is all preliminary / proof of concept, since we don't have the final data yet"
   ]
  },
  {
   "cell_type": "code",
   "execution_count": 1,
   "id": "a9489c42",
   "metadata": {},
   "outputs": [],
   "source": [
    "%load_ext autoreload\n",
    "%autoreload 2\n",
    "%matplotlib inline"
   ]
  },
  {
   "cell_type": "code",
   "execution_count": 2,
   "id": "d9c68da4",
   "metadata": {},
   "outputs": [],
   "source": [
    "# special import (so that ReczillaClassifier can be imported)\n",
    "import os\n",
    "import sys\n",
    "HOME = os.environ.get(\"HOME\")\n",
    "sys.path.insert(0, f\"{HOME}/reczilla/RecSys2019_DeepLearning_Evaluation\")"
   ]
  },
  {
   "cell_type": "code",
   "execution_count": 3,
   "id": "1fa87e05",
   "metadata": {},
   "outputs": [],
   "source": [
    "import numpy as np\n",
    "from sklearn.metrics import accuracy_score, precision_score\n",
    "from sklearn.multioutput import RegressorChain\n",
    "import xgboost as xgb\n",
    "import pandas as pd\n",
    "from scipy import stats\n",
    "import matplotlib.pyplot as plt\n",
    "import matplotlib\n",
    "matplotlib.rcParams['pdf.fonttype'] = 42\n",
    "\n",
    "\n",
    "from ReczillaClassifier.get_alg_feat_selection_data import alg_feature_selection_featurized, ALL_DATASETS"
   ]
  },
  {
   "cell_type": "code",
   "execution_count": 4,
   "id": "61d24fac",
   "metadata": {},
   "outputs": [],
   "source": [
    "# constants\n",
    "\n",
    "METRICS = [\"PRECISION_cut_10\", \"MAP_cut_10\"]\n",
    "\n",
    "default_colors = [(0.12156862745098039, 0.4666666666666667, 0.7058823529411765),\n",
    "                  (1.0, 0.4980392156862745, 0.054901960784313725),\n",
    "                  (0.17254901960784313, 0.6274509803921569, 0.17254901960784313),\n",
    "                  (0.8392156862745098, 0.15294117647058825, 0.1568627450980392),\n",
    "                  (0.5803921568627451, 0.403921568627451, 0.7411764705882353),\n",
    "                  (0.5490196078431373, 0.33725490196078434, 0.29411764705882354),\n",
    "                  (0.8901960784313725, 0.4666666666666667, 0.7607843137254902),\n",
    "                  (0.4980392156862745, 0.4980392156862745, 0.4980392156862745),\n",
    "                  (0.7372549019607844, 0.7411764705882353, 0.13333333333333333),\n",
    "                  (0.09019607843137255, 0.7450980392156863, 0.8117647058823529),\n",
    "                  (0.0, 0.0, 0.0)\n",
    "                 ]"
   ]
  },
  {
   "cell_type": "code",
   "execution_count": 5,
   "id": "e85fe473",
   "metadata": {
    "scrolled": true
   },
   "outputs": [
    {
     "name": "stderr",
     "output_type": "stream",
     "text": [
      "/Users/colinwhite/Library/Python/3.8/lib/python/site-packages/scipy/stats/_stats_py.py:4529: SpearmanRConstantInputWarning: An input array is constant; the correlation coefficient is not defined.\n",
      "  warnings.warn(SpearmanRConstantInputWarning())\n",
      "/Users/colinwhite/Library/Python/3.8/lib/python/site-packages/scipy/stats/_stats_py.py:4529: SpearmanRConstantInputWarning: An input array is constant; the correlation coefficient is not defined.\n",
      "  warnings.warn(SpearmanRConstantInputWarning())\n",
      "/Users/colinwhite/Library/Python/3.8/lib/python/site-packages/scipy/stats/_stats_py.py:4529: SpearmanRConstantInputWarning: An input array is constant; the correlation coefficient is not defined.\n",
      "  warnings.warn(SpearmanRConstantInputWarning())\n",
      "/Users/colinwhite/Library/Python/3.8/lib/python/site-packages/scipy/stats/_stats_py.py:4529: SpearmanRConstantInputWarning: An input array is constant; the correlation coefficient is not defined.\n",
      "  warnings.warn(SpearmanRConstantInputWarning())\n",
      "/Users/colinwhite/Library/Python/3.8/lib/python/site-packages/scipy/stats/_stats_py.py:4529: SpearmanRConstantInputWarning: An input array is constant; the correlation coefficient is not defined.\n",
      "  warnings.warn(SpearmanRConstantInputWarning())\n",
      "/Users/colinwhite/Library/Python/3.8/lib/python/site-packages/scipy/stats/_stats_py.py:4529: SpearmanRConstantInputWarning: An input array is constant; the correlation coefficient is not defined.\n",
      "  warnings.warn(SpearmanRConstantInputWarning())\n",
      "/Users/colinwhite/Library/Python/3.8/lib/python/site-packages/scipy/stats/_stats_py.py:4529: SpearmanRConstantInputWarning: An input array is constant; the correlation coefficient is not defined.\n",
      "  warnings.warn(SpearmanRConstantInputWarning())\n",
      "/Users/colinwhite/Library/Python/3.8/lib/python/site-packages/scipy/stats/_stats_py.py:4529: SpearmanRConstantInputWarning: An input array is constant; the correlation coefficient is not defined.\n",
      "  warnings.warn(SpearmanRConstantInputWarning())\n",
      "/Users/colinwhite/Library/Python/3.8/lib/python/site-packages/scipy/stats/_stats_py.py:4529: SpearmanRConstantInputWarning: An input array is constant; the correlation coefficient is not defined.\n",
      "  warnings.warn(SpearmanRConstantInputWarning())\n",
      "/Users/colinwhite/Library/Python/3.8/lib/python/site-packages/scipy/stats/_stats_py.py:4529: SpearmanRConstantInputWarning: An input array is constant; the correlation coefficient is not defined.\n",
      "  warnings.warn(SpearmanRConstantInputWarning())\n",
      "/Users/colinwhite/Library/Python/3.8/lib/python/site-packages/scipy/stats/_stats_py.py:4529: SpearmanRConstantInputWarning: An input array is constant; the correlation coefficient is not defined.\n",
      "  warnings.warn(SpearmanRConstantInputWarning())\n",
      "/Users/colinwhite/Library/Python/3.8/lib/python/site-packages/scipy/stats/_stats_py.py:4529: SpearmanRConstantInputWarning: An input array is constant; the correlation coefficient is not defined.\n",
      "  warnings.warn(SpearmanRConstantInputWarning())\n",
      "/Users/colinwhite/Library/Python/3.8/lib/python/site-packages/scipy/stats/_stats_py.py:4529: SpearmanRConstantInputWarning: An input array is constant; the correlation coefficient is not defined.\n",
      "  warnings.warn(SpearmanRConstantInputWarning())\n",
      "/Users/colinwhite/Library/Python/3.8/lib/python/site-packages/scipy/stats/_stats_py.py:4529: SpearmanRConstantInputWarning: An input array is constant; the correlation coefficient is not defined.\n",
      "  warnings.warn(SpearmanRConstantInputWarning())\n",
      "/Users/colinwhite/Library/Python/3.8/lib/python/site-packages/scipy/stats/_stats_py.py:4529: SpearmanRConstantInputWarning: An input array is constant; the correlation coefficient is not defined.\n",
      "  warnings.warn(SpearmanRConstantInputWarning())\n",
      "/Users/colinwhite/Library/Python/3.8/lib/python/site-packages/scipy/stats/_stats_py.py:4529: SpearmanRConstantInputWarning: An input array is constant; the correlation coefficient is not defined.\n",
      "  warnings.warn(SpearmanRConstantInputWarning())\n",
      "/Users/colinwhite/Library/Python/3.8/lib/python/site-packages/scipy/stats/_stats_py.py:4529: SpearmanRConstantInputWarning: An input array is constant; the correlation coefficient is not defined.\n",
      "  warnings.warn(SpearmanRConstantInputWarning())\n",
      "/Users/colinwhite/Library/Python/3.8/lib/python/site-packages/scipy/stats/_stats_py.py:4529: SpearmanRConstantInputWarning: An input array is constant; the correlation coefficient is not defined.\n",
      "  warnings.warn(SpearmanRConstantInputWarning())\n",
      "/Users/colinwhite/Library/Python/3.8/lib/python/site-packages/scipy/stats/_stats_py.py:4529: SpearmanRConstantInputWarning: An input array is constant; the correlation coefficient is not defined.\n",
      "  warnings.warn(SpearmanRConstantInputWarning())\n",
      "/Users/colinwhite/Library/Python/3.8/lib/python/site-packages/scipy/stats/_stats_py.py:4529: SpearmanRConstantInputWarning: An input array is constant; the correlation coefficient is not defined.\n",
      "  warnings.warn(SpearmanRConstantInputWarning())\n",
      "/Users/colinwhite/Library/Python/3.8/lib/python/site-packages/scipy/stats/_stats_py.py:4529: SpearmanRConstantInputWarning: An input array is constant; the correlation coefficient is not defined.\n",
      "  warnings.warn(SpearmanRConstantInputWarning())\n",
      "/Users/colinwhite/Library/Python/3.8/lib/python/site-packages/scipy/stats/_stats_py.py:4529: SpearmanRConstantInputWarning: An input array is constant; the correlation coefficient is not defined.\n",
      "  warnings.warn(SpearmanRConstantInputWarning())\n",
      "/Users/colinwhite/Library/Python/3.8/lib/python/site-packages/scipy/stats/_stats_py.py:4529: SpearmanRConstantInputWarning: An input array is constant; the correlation coefficient is not defined.\n",
      "  warnings.warn(SpearmanRConstantInputWarning())\n",
      "/Users/colinwhite/Library/Python/3.8/lib/python/site-packages/scipy/stats/_stats_py.py:4529: SpearmanRConstantInputWarning: An input array is constant; the correlation coefficient is not defined.\n",
      "  warnings.warn(SpearmanRConstantInputWarning())\n",
      "/Users/colinwhite/Library/Python/3.8/lib/python/site-packages/scipy/stats/_stats_py.py:4529: SpearmanRConstantInputWarning: An input array is constant; the correlation coefficient is not defined.\n",
      "  warnings.warn(SpearmanRConstantInputWarning())\n",
      "/Users/colinwhite/Library/Python/3.8/lib/python/site-packages/scipy/stats/_stats_py.py:4529: SpearmanRConstantInputWarning: An input array is constant; the correlation coefficient is not defined.\n",
      "  warnings.warn(SpearmanRConstantInputWarning())\n",
      "/Users/colinwhite/Library/Python/3.8/lib/python/site-packages/scipy/stats/_stats_py.py:4529: SpearmanRConstantInputWarning: An input array is constant; the correlation coefficient is not defined.\n",
      "  warnings.warn(SpearmanRConstantInputWarning())\n",
      "/Users/colinwhite/Library/Python/3.8/lib/python/site-packages/scipy/stats/_stats_py.py:4529: SpearmanRConstantInputWarning: An input array is constant; the correlation coefficient is not defined.\n",
      "  warnings.warn(SpearmanRConstantInputWarning())\n",
      "/Users/colinwhite/Library/Python/3.8/lib/python/site-packages/scipy/stats/_stats_py.py:4529: SpearmanRConstantInputWarning: An input array is constant; the correlation coefficient is not defined.\n",
      "  warnings.warn(SpearmanRConstantInputWarning())\n",
      "/Users/colinwhite/Library/Python/3.8/lib/python/site-packages/scipy/stats/_stats_py.py:4529: SpearmanRConstantInputWarning: An input array is constant; the correlation coefficient is not defined.\n",
      "  warnings.warn(SpearmanRConstantInputWarning())\n",
      "/Users/colinwhite/Library/Python/3.8/lib/python/site-packages/scipy/stats/_stats_py.py:4529: SpearmanRConstantInputWarning: An input array is constant; the correlation coefficient is not defined.\n",
      "  warnings.warn(SpearmanRConstantInputWarning())\n",
      "/Users/colinwhite/Library/Python/3.8/lib/python/site-packages/scipy/stats/_stats_py.py:4529: SpearmanRConstantInputWarning: An input array is constant; the correlation coefficient is not defined.\n",
      "  warnings.warn(SpearmanRConstantInputWarning())\n",
      "/Users/colinwhite/Library/Python/3.8/lib/python/site-packages/scipy/stats/_stats_py.py:4529: SpearmanRConstantInputWarning: An input array is constant; the correlation coefficient is not defined.\n",
      "  warnings.warn(SpearmanRConstantInputWarning())\n",
      "/Users/colinwhite/Library/Python/3.8/lib/python/site-packages/scipy/stats/_stats_py.py:4529: SpearmanRConstantInputWarning: An input array is constant; the correlation coefficient is not defined.\n",
      "  warnings.warn(SpearmanRConstantInputWarning())\n",
      "/Users/colinwhite/Library/Python/3.8/lib/python/site-packages/scipy/stats/_stats_py.py:4529: SpearmanRConstantInputWarning: An input array is constant; the correlation coefficient is not defined.\n",
      "  warnings.warn(SpearmanRConstantInputWarning())\n"
     ]
    },
    {
     "name": "stderr",
     "output_type": "stream",
     "text": [
      "/Users/colinwhite/Library/Python/3.8/lib/python/site-packages/scipy/stats/_stats_py.py:4529: SpearmanRConstantInputWarning: An input array is constant; the correlation coefficient is not defined.\n",
      "  warnings.warn(SpearmanRConstantInputWarning())\n",
      "/Users/colinwhite/Library/Python/3.8/lib/python/site-packages/scipy/stats/_stats_py.py:4529: SpearmanRConstantInputWarning: An input array is constant; the correlation coefficient is not defined.\n",
      "  warnings.warn(SpearmanRConstantInputWarning())\n",
      "/Users/colinwhite/Library/Python/3.8/lib/python/site-packages/scipy/stats/_stats_py.py:4529: SpearmanRConstantInputWarning: An input array is constant; the correlation coefficient is not defined.\n",
      "  warnings.warn(SpearmanRConstantInputWarning())\n"
     ]
    }
   ],
   "source": [
    "metric = METRICS[0]\n",
    "test_dataset = ALL_DATASETS[0]\n",
    "num_algs = 19\n",
    "num_feats = 300\n",
    "\n",
    "# todo: update the code so that one dataset isn't left out of the analysis\n",
    "# note: I made a few small changes to ReczillaClassifier/get_alg_feat_selection_data.py#L159\n",
    "# but haven't pushed them. Message me if you have trouble.\n",
    "X_train, y_train, X_test, y_test, (feature_corrs, meta_dataset, metafeats, ranked_algs) = alg_feature_selection_featurized(metric, [test_dataset], num_algs=num_algs, num_feats=num_feats)"
   ]
  },
  {
   "cell_type": "code",
   "execution_count": 6,
   "id": "50c186c2",
   "metadata": {
    "scrolled": false
   },
   "outputs": [
    {
     "name": "stdout",
     "output_type": "stream",
     "text": [
      "metric is PRECISION_cut_10\n",
      "\n",
      "Highest corrs between an alg and meta-feature:\n",
      "\n",
      "(1.0, 'MatrixFactorization_AsySVD_Cython', 'f_dist_feature__kind_user__pre_agg_func_count__agg_func_mean')\n",
      "(0.9601587170383665, 'Mult_VAE_RecommenderWrapper', 'f_dist_feature__kind_item__pre_agg_func_count__agg_func_Gini')\n",
      "(0.8526315789473683, 'TopPop', 'f_num_items')\n",
      "(0.8353970306134467, 'MatrixFactorization_FunkSVD_Cython', 'f_dist_feature__kind_item__pre_agg_func_count__agg_func_std')\n",
      "(0.8319636162943312, 'EASE_R_Recommender', 'f_landmarker__alg_user_knn_k1__cut_1__NOVELTY')\n",
      "\n",
      "Highest corrs between an alg and non-landmarker meta-feature\n",
      "\n",
      "(1.0, 'MatrixFactorization_AsySVD_Cython', 'f_dist_feature__kind_user__pre_agg_func_count__agg_func_median')\n",
      "(0.9601587170383665, 'Mult_VAE_RecommenderWrapper', 'f_dist_feature__kind_item__pre_agg_func_count__agg_func_Gini')\n",
      "(0.8353970306134467, 'MatrixFactorization_FunkSVD_Cython', 'f_dist_feature__kind_item__pre_agg_func_count__agg_func_std')\n",
      "(0.8206317731620506, 'SLIMElasticNetRecommender', 'f_dist_feature__kind_item__pre_agg_func_mean__agg_func_max')\n",
      "(0.8070546113270335, 'MatrixFactorization_BPR_Cython', 'f_dist_feature__kind_item__pre_agg_func_mean__agg_func_mode')\n"
     ]
    }
   ],
   "source": [
    "### highest correlations between algorithm performance and individual meta-features\n",
    "# input: feature_corrs dataframe, i.e. [meta-features x algs], where entry [i,j] is corr of feature i with alg j (corr is computed across all datasets)\n",
    "\n",
    "print('metric is', metric)\n",
    "\n",
    "no_na = feature_corrs.fillna(0)\n",
    "#print(no_na)\n",
    "\n",
    "print('\\nHighest corrs between an alg and meta-feature:\\n')\n",
    "top_corrs = []\n",
    "for alg in no_na.columns:\n",
    "    top_three = no_na[alg].sort_values(ascending=False)[:3]\n",
    "    top_corrs.append((top_three[0], alg, top_three.index[0]))\n",
    "\n",
    "top_corrs.sort(reverse=True)\n",
    "for t in top_corrs[:5]:\n",
    "    print(t)\n",
    "\n",
    "print('\\nHighest corrs between an alg and non-landmarker meta-feature\\n')\n",
    "#landmark_indices = list([s for n,s in enumerate(no_na.index) if 'landmarker' in s])\n",
    "# first index that's not a landmarker\n",
    "new_df = no_na.loc[:'f_item_user_ratio', :]\n",
    "#print([x for x in new_df.index])\n",
    "#print([x for x in new_df.columns])\n",
    "top_corrs = []\n",
    "\n",
    "algs = []\n",
    "for alg in new_df.columns:\n",
    "    top_three = new_df[alg].sort_values(ascending=False)[:3]\n",
    "    #print(top_three)\n",
    "    top_corrs.append((top_three[0], alg, top_three.index[0]))\n",
    "    algs.append(alg)\n",
    "    \n",
    "top_corrs.sort(reverse=True)\n",
    "for t in top_corrs[:5]:\n",
    "    print(t)\n"
   ]
  },
  {
   "cell_type": "code",
   "execution_count": 7,
   "id": "3e29f035",
   "metadata": {
    "scrolled": false
   },
   "outputs": [
    {
     "name": "stdout",
     "output_type": "stream",
     "text": [
      "metric is PRECISION_cut_10\n"
     ]
    },
    {
     "name": "stderr",
     "output_type": "stream",
     "text": [
      "/Users/colinwhite/Library/Python/3.8/lib/python/site-packages/scipy/stats/_stats_py.py:4529: SpearmanRConstantInputWarning: An input array is constant; the correlation coefficient is not defined.\n",
      "  warnings.warn(SpearmanRConstantInputWarning())\n"
     ]
    },
    {
     "name": "stdout",
     "output_type": "stream",
     "text": [
      "\n",
      "Features most correlated with dataset \"hardness\":\n",
      "(0.6493506493506493, False, 'f_dist_feature__kind_user__pre_agg_func_sum__agg_func_skewness')\n",
      "(0.6376623376623376, False, 'f_dist_feature__kind_user__pre_agg_func_sum__agg_func_kurtosis')\n",
      "(0.6103896103896104, False, 'f_dist_feature__kind_item__pre_agg_func_count__agg_func_kurtosis')\n",
      "(0.6077922077922078, False, 'f_dist_feature__kind_user__pre_agg_func_count__agg_func_kurtosis')\n",
      "(0.5935064935064935, False, 'f_dist_feature__kind_item__pre_agg_func_count__agg_func_skewness')\n",
      "(0.5272727272727272, False, 'f_dist_feature__kind_item__pre_agg_func_sum__agg_func_skewness')\n",
      "(0.5246753246753247, False, 'f_dist_feature__kind_item__pre_agg_func_sum__agg_func_kurtosis')\n",
      "(0.5098917873219445, False, 'f_dist_feature__kind_rating__pre_agg_func_None__agg_func_min')\n",
      "(0.5071495862633159, False, 'f_dist_feature__kind_item__pre_agg_func_mean__agg_func_mode')\n",
      "(0.4991544551433215, False, 'f_dist_feature__kind_item__pre_agg_func_mean__agg_func_min')\n"
     ]
    }
   ],
   "source": [
    "## find the properties of a dataset that makes it hard to train a good recommender system\n",
    "## compute correlation between hardness=max_algos(metric) on each dataset, and all meta-features\n",
    "\n",
    "print('metric is', metric)\n",
    "\n",
    "\n",
    "\n",
    "all_max_perfs = []\n",
    "all_datasets = []\n",
    "# compute the \"easiness\" of each dataset, defined as best performance over all algorithms\n",
    "for dataset_name, dataset_performance in meta_dataset.groupby(\"dataset_name\"):\n",
    "    max_value = max(dataset_performance[\"max_test_metric_\" + metric])\n",
    "    all_max_perfs.append(max_value)\n",
    "    all_datasets.append(dataset_name)\n",
    "    \n",
    "# for each meta-feature, compute corr between meta-feature and easiness (across datasets)\n",
    "\n",
    "all_features = [col for col in metafeats.columns if col.startswith(\"f_\")]\n",
    "corrs = []\n",
    "for feat in all_features:\n",
    "    # there must be a much faster way to do this. All I want to do is get the metafeature values for each dataset\n",
    "    values = []\n",
    "    for dataset_name in all_datasets:\n",
    "        value = metafeats.loc[(metafeats[\"dataset_name\"] == dataset_name)][feat].iat[0]\n",
    "        values.append(value)\n",
    "\n",
    "    # now compute the correlation between the meta-feature and the max-performance\n",
    "    corr = stats.spearmanr(all_max_perfs, values)[0]\n",
    "    positive = (corr == abs(corr))\n",
    "    corrs.append((abs(corr), positive, feat))\n",
    "\n",
    "corrs.sort(reverse = True)\n",
    "\n",
    "# print most correlated features\n",
    "print('\\nFeatures most correlated with dataset \"hardness\":')\n",
    "for c in corrs[:10]:\n",
    "    print(c)\n"
   ]
  },
  {
   "cell_type": "code",
   "execution_count": 8,
   "id": "b14346b9",
   "metadata": {},
   "outputs": [
    {
     "name": "stdout",
     "output_type": "stream",
     "text": [
      "metric is PRECISION_cut_10\n",
      "dataset failed: BookCrossingReader 4 / 5\n",
      "dataset failed: DatingReader 3 / 5\n",
      "dataset failed: GowallaReader 2 / 5\n",
      "dataset failed: NetflixPrizeReader 2 / 5\n",
      "dataset failed: RecipesReader 4 / 5\n"
     ]
    },
    {
     "data": {
      "image/png": "[encoded data removed]",
      "text/plain": [
       "<Figure size 635.04x144 with 1 Axes>"
      ]
     },
     "metadata": {
      "needs_background": "light"
     },
     "output_type": "display_data"
    }
   ],
   "source": [
    "## dot plots of performance of ~5 algos on each dataset\n",
    "\n",
    "print('metric is', metric)\n",
    "\n",
    "#full_algs = ['ItemKNN', 'SLIM_BPR_Cython', 'RP3betaRecommender', 'P3alphaRecommender', 'UserKNN', 'SLIMElasticNetRecommender', 'EASE_R_Recommender', 'PureSVDRecommender', 'TopPop', 'Mult_VAE_RecommenderWrapper', 'IALSRecommender', 'NMFRecommender', 'MatrixFactorization_FunkSVD_Cython', 'MatrixFactorization_BPR_Cython', 'MatrixFactorization_AsySVD_Cython', 'GlobalEffects', 'Random', 'SlopeOne']\n",
    "algs = ['ItemKNN', 'UserKNN', 'TopPop', 'P3alphaRecommender', 'PureSVDRecommender']\n",
    "plot_width = .42 * len(meta_dataset.groupby(\"dataset_name\"))\n",
    "fig, ax = plt.subplots(figsize=(plot_width,2))\n",
    "\n",
    "width = 0\n",
    "datasets = []\n",
    "for dataset_name, dataset_performance in meta_dataset.groupby(\"dataset_name\"):\n",
    "    perfs = []\n",
    "    for alg in algs:\n",
    "        #print(dataset_name, alg)\n",
    "        #print(dataset_performance[[\"alg_name\", \"max_test_metric_\" + metric]])\n",
    "        perf = dataset_performance.loc[dataset_performance[\"alg_name\"] == alg][\"max_test_metric_\" + metric]\n",
    "        #print(len(perf))\n",
    "        if len(perf) > 0:\n",
    "            perfs.append(perf.iloc[0])\n",
    "\n",
    "    if len(perfs) < len(algs):\n",
    "        print('dataset failed:', dataset_name, len(perfs), '/', len(algs))\n",
    "        continue\n",
    "    \n",
    "    # now scale the values in [0,1]\n",
    "    min_perf, max_perf = np.min(perfs), np.max(perfs)\n",
    "    perfs = [(p - min_perf) / (max_perf - min_perf) for p in perfs]\n",
    "    datasets.append(dataset_name)\n",
    "    \n",
    "    width += 1\n",
    "    for i, alg in enumerate(algs):\n",
    "        color = default_colors[i]\n",
    "        if width == 1:\n",
    "            ax.scatter(width, perfs[i], label=alg, color=color, marker='o')\n",
    "        else:\n",
    "            ax.scatter(width, perfs[i], color=color, marker='o')\n",
    "            \n",
    "ax.legend(loc=(1.01,.1))\n",
    "ax.set_xticklabels(datasets, fontsize=12, rotation=90)\n",
    "ax.set_xticks(range(1, len(datasets)+1))\n",
    "ax.set_ylabel('Scaled '+metric, fontsize=12)   \n",
    "\n",
    "#ax.set_title('Scaled Spearman Rank Correlation of Performance Predictors', fontsize=14)\n",
    "ax.set_title('Rel. Perf. of Rec. Sys. Algorithms ('+metric+')', fontsize=14)\n",
    "\n",
    "save = False\n",
    "if save:\n",
    "    plt.savefig(result_folder + save, bbox_inches = 'tight', pad_inches = 0.1)\n"
   ]
  },
  {
   "cell_type": "code",
   "execution_count": 9,
   "id": "feb862c0",
   "metadata": {},
   "outputs": [
    {
     "name": "stdout",
     "output_type": "stream",
     "text": [
      "dataset failed: BookCrossingReader 7 / 18\n",
      "dataset failed: DatingReader 5 / 18\n",
      "dataset failed: GowallaReader 4 / 18\n",
      "dataset failed: Movielens20MReader 7 / 18\n",
      "dataset failed: NetflixPrizeReader 4 / 18\n",
      "dataset failed: RecipesReader 7 / 18\n"
     ]
    },
    {
     "data": {
      "image/png": "[encoded data removed]",
      "text/plain": [
       "<Figure size 635.04x144 with 1 Axes>"
      ]
     },
     "metadata": {
      "needs_background": "light"
     },
     "output_type": "display_data"
    }
   ],
   "source": [
    "# box plots of performance across all algs on each dataset\n",
    "\n",
    "full_algs = ['ItemKNN', 'SLIM_BPR_Cython', 'RP3betaRecommender', 'P3alphaRecommender', 'UserKNN', 'SLIMElasticNetRecommender', 'EASE_R_Recommender', 'PureSVDRecommender', 'TopPop', 'Mult_VAE_RecommenderWrapper', 'IALSRecommender', 'NMFRecommender', 'MatrixFactorization_FunkSVD_Cython', 'MatrixFactorization_BPR_Cython', 'MatrixFactorization_AsySVD_Cython', 'GlobalEffects', 'Random', 'SlopeOne']\n",
    "threshold = len(full_algs) / 2\n",
    "\n",
    "plot_width = .42 * len(meta_dataset.groupby(\"dataset_name\"))\n",
    "fig, ax = plt.subplots(figsize=(plot_width,2))\n",
    "\n",
    "width = 0\n",
    "datasets = []\n",
    "boxplot_data = []\n",
    "for dataset_name, dataset_performance in meta_dataset.groupby(\"dataset_name\"):\n",
    "    perfs = []\n",
    "    for alg in full_algs:\n",
    "        perf = dataset_performance.loc[dataset_performance[\"alg_name\"] == alg][\"max_test_metric_\" + metric]\n",
    "        if len(perf) > 0:\n",
    "            perfs.append(perf.iloc[0])\n",
    "\n",
    "    if len(perfs) < threshold:\n",
    "        print('dataset failed:', dataset_name, len(perfs), '/', len(full_algs))\n",
    "        continue\n",
    "    \n",
    "    datasets.append(dataset_name)\n",
    "    \n",
    "    width += 1\n",
    "    #np.percentile(val_accs, 25), \n",
    "    #np.median(val_accs), \n",
    "    #np.percentile(val_accs, 75)\n",
    "\n",
    "    boxes = {\n",
    "        'label' : dataset_name,\n",
    "        'whislo': min(perfs),\n",
    "        'q1'    : np.percentile(perfs, 25),\n",
    "        'med'   : np.median(perfs),\n",
    "        'q3'    : np.percentile(perfs, 75),\n",
    "        'whishi': max(perfs),\n",
    "        'fliers': []\n",
    "    }\n",
    "    boxplot_data.append(boxes)        \n",
    "        \n",
    "        \n",
    "        \n",
    "#ax.scatter(width, perfs[i], label=alg, color=color, marker='o')\n",
    "\n",
    "ax.bxp(boxplot_data)\n",
    "\n",
    "\n",
    "plt.xticks(rotation = 90)\n",
    "ax.set_ylabel(metric, fontsize=12)   \n",
    "save = False\n",
    "if save:\n",
    "    plt.savefig(result_folder + save, bbox_inches = 'tight', pad_inches = 0.1)"
   ]
  },
  {
   "cell_type": "code",
   "execution_count": null,
   "id": "959603b6",
   "metadata": {},
   "outputs": [],
   "source": [
    "#### done\n",
    "# highest correlations between algorithm performance and individual meta-features\n",
    "# correlation between hardness=max_algos(metric) on each dataset, and all meta-features\n",
    "# dot plots of performance of ~5 algos on each dataset\n",
    "# box plots of performance across all algs on each dataset\n",
    "\n",
    "#### planned\n",
    "\n",
    "# with hyperparam data - HPO transfer matrices https://arxiv.org/pdf/2201.13396.pdf\n",
    "\n",
    "# table of avg rankings of the algs\n",
    "# plot of #users, #items, #interactions ?\n",
    "\n",
    "# mutual satisfiability of different metrics ---- think about something interesting that studies relns between metrics\n",
    "# for example, matrix where the rows/cols are metrics, and entry (i,j) is the corr of metric i with metric j averaged over all algos/datasets\n"
   ]
  },
  {
   "cell_type": "code",
   "execution_count": null,
   "id": "91d403f9",
   "metadata": {},
   "outputs": [],
   "source": [
    "# notes\n",
    "\n",
    "# meta_dataset\n",
    "# 253 rows: row is dataset x alg\n",
    "# 665 columns: test_metric and meta-features\n",
    "\n",
    "# metafeats\n",
    "#[759 rows x 1049 columns]\n",
    "# rows: dataset x alg\n",
    "# columns: test metrics and meta-features"
   ]
  },
  {
   "cell_type": "code",
   "execution_count": null,
   "id": "9c294651",
   "metadata": {},
   "outputs": [],
   "source": []
  }
 ],
 "metadata": {
  "kernelspec": {
   "display_name": "Python 3 (ipykernel)",
   "language": "python",
   "name": "python3"
  },
  "language_info": {
   "codemirror_mode": {
    "name": "ipython",
    "version": 3
   },
   "file_extension": ".py",
   "mimetype": "text/x-python",
   "name": "python",
   "nbconvert_exporter": "python",
   "pygments_lexer": "ipython3",
   "version": "3.8.9"
  }
 },
 "nbformat": 4,
 "nbformat_minor": 5
}
