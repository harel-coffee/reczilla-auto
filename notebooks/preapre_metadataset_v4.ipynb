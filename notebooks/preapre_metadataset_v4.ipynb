{
 "cells": [
  {
   "cell_type": "markdown",
   "metadata": {},
   "source": [
    "### v4: \n",
    "\n",
    "This version uses all experiments for the NeurIPS rebuttal (Aug'22), and initial deep-learning results. These results differ from v3a in that we only keep neural methods mult-vae and u-neu-rec, which were run on all datasets, not just a subset."
   ]
  },
  {
   "cell_type": "code",
   "execution_count": 31,
   "metadata": {},
   "outputs": [],
   "source": [
    "# define the results file here. this file should be created by the script process_inbox.py\n",
    "results_csv = \"/Users/duncan/research/active_projects/reczilla/results/results.csv\"\n",
    "\n",
    "# name of the resulting meta-dataset\n",
    "meta_dataset_name = \"metadata-4\"\n",
    "\n",
    "# define a function that takes a row as input an returns True if the row should be included in the meta-dataset and false otherwise\n",
    "def include_row(row):\n",
    "    if row[\"experiment_name\"].startswith(\"neurips-\") or row[\"experiment_name\"].startswith(\"dl2\"):\n",
    "        return True\n",
    "    else:\n",
    "        return False\n"
   ]
  },
  {
   "cell_type": "code",
   "execution_count": 32,
   "metadata": {},
   "outputs": [
    {
     "name": "stderr",
     "output_type": "stream",
     "text": [
      "/Users/duncan/miniconda3/envs/recsys/lib/python3.6/site-packages/IPython/core/interactiveshell.py:3072: DtypeWarning: Columns (13,14,20,21,36,37,45,47,48,49,54) have mixed types. Specify dtype option on import or set low_memory=False.\n",
      "  interactivity=interactivity, compiler=compiler, result=result)\n"
     ]
    }
   ],
   "source": [
    "import pandas as pd\n",
    "import numpy as np\n",
    "\n",
    "df = pd.read_csv(results_csv, sep=\";\")"
   ]
  },
  {
   "cell_type": "markdown",
   "metadata": {},
   "source": [
    "## Filter the results based on the function \"include_row\""
   ]
  },
  {
   "cell_type": "code",
   "execution_count": 33,
   "metadata": {},
   "outputs": [],
   "source": [
    "### keep experiments indicated by function include_row\n",
    "keep_rows = df.apply(include_row, axis=1)\n",
    "df_expt = df.loc[keep_rows, :]\n"
   ]
  },
  {
   "cell_type": "code",
   "execution_count": 34,
   "metadata": {},
   "outputs": [
    {
     "data": {
      "text/plain": [
       "alg_name      dataset_name                     \n",
       "CoClustering  AmazonAllBeautyReader                100\n",
       "              AmazonAllElectronicsReader           100\n",
       "              AmazonAlternativeRockReader          100\n",
       "              AmazonAmazonFashionReader            100\n",
       "              AmazonAmazonInstantVideoReader       100\n",
       "              AmazonAppliancesReader               100\n",
       "              AmazonAppsforAndroidReader           100\n",
       "              AmazonAppstoreforAndroidReader       100\n",
       "              AmazonArtsCraftsSewingReader         100\n",
       "              AmazonAutomotiveReader               100\n",
       "              AmazonBabyProductsReader             100\n",
       "              AmazonBabyReader                     100\n",
       "              AmazonBeautyReader                   100\n",
       "              AmazonBluesReader                    100\n",
       "              AmazonBuyaKindleReader               100\n",
       "              AmazonCDsVinylReader                 100\n",
       "              AmazonCellPhonesAccessoriesReader    100\n",
       "              AmazonChristianReader                100\n",
       "              AmazonClassicalReader                100\n",
       "              AmazonClothingShoesJewelryReader     100\n",
       "              AmazonCollectiblesFineArtReader      100\n",
       "              AmazonComputersReader                100\n",
       "              AmazonCountryReader                  100\n",
       "              AmazonDanceElectronicReader          100\n",
       "              AmazonDavisReader                    100\n",
       "              AmazonDigitalMusicReader             100\n",
       "              AmazonElectronicsReader              100\n",
       "              AmazonFolkReader                     100\n",
       "              AmazonGiftCardsReader                100\n",
       "              AmazonGospelReader                   100\n",
       "                                                  ... \n",
       "UserKNNCF     AmazonRockReader                     180\n",
       "              AmazonSoftwareReader                 180\n",
       "              AmazonSportsOutdoorsReader           180\n",
       "              AmazonToolsHomeImprovementReader     180\n",
       "              AmazonToysGamesReader                180\n",
       "              AmazonVideoGamesReader               180\n",
       "              AmazonWineReader                     180\n",
       "              AnimeReader                          180\n",
       "              BookCrossingReader                   180\n",
       "              CiaoDVDReader                        180\n",
       "              DatingReader                         180\n",
       "              EpinionsReader                       180\n",
       "              FilmTrustReader                      180\n",
       "              FrappeReader                         180\n",
       "              GowallaReader                        180\n",
       "              Jester2Reader                        180\n",
       "              LastFMReader                         180\n",
       "              MarketBiasAmazonReader               180\n",
       "              MarketBiasModClothReader             180\n",
       "              MovieTweetingsReader                 180\n",
       "              Movielens100KReader                  180\n",
       "              Movielens10MReader                   180\n",
       "              Movielens1MReader                    180\n",
       "              Movielens20MReader                   180\n",
       "              MovielensHetrec2011Reader            180\n",
       "              NetflixPrizeReader                   180\n",
       "              RecipesReader                        180\n",
       "              WikilensReader                       210\n",
       "              YahooMoviesReader                    210\n",
       "              YahooMusicReader                     180\n",
       "Length: 1812, dtype: int64"
      ]
     },
     "execution_count": 34,
     "metadata": {},
     "output_type": "execute_result"
    }
   ],
   "source": [
    "#### INITIAL ANALYSIS - use a temporary dataframe\n",
    "ignore_datasets = [\"AmazonBooksReader\", \"AmazonPurchaseCirclesReader\", \"GoogleLocalReviewsReader\"]\n",
    "df_tmp = df_expt.loc[~df_expt[\"dataset_name\"].isin(ignore_datasets), :].copy()\n",
    "knn_rows = df_tmp[\"alg_name\"].str.contains(\"KNN\")\n",
    "\n",
    "knn_basename = df_tmp.loc[knn_rows, \"alg_name\"].apply(lambda x: x.split(\"_\")[0])\n",
    "knn_sim = df_tmp.loc[knn_rows, \"alg_name\"].apply(lambda x: x.split(\"_\")[1])\n",
    "df_tmp.loc[knn_rows, \"alg_name\"] = knn_basename  # either UserKNN or ItemKNN\n",
    "\n",
    "df_tmp.groupby([\"alg_name\", \"dataset_name\"]).size()"
   ]
  },
  {
   "cell_type": "code",
   "execution_count": 35,
   "metadata": {},
   "outputs": [
    {
     "name": "stdout",
     "output_type": "stream",
     "text": [
      "number of exceptions: 92\n",
      "number of exceptions with MemoryError in them: 38\n",
      "number of exceptions with IndexError in them: 31\n"
     ]
    }
   ],
   "source": [
    "### Triage exceptions\n",
    "excepts = [e for e in df_tmp[\"exception\"].unique() if type(e) is str]\n",
    "print(f\"number of exceptions: {len(excepts)}\")\n",
    "print(f\"number of exceptions with MemoryError in them: {len([e for e in excepts if 'MemoryError' in e])}\")\n",
    "print(f\"number of exceptions with IndexError in them: {len([e for e in excepts if 'IndexError' in e])}\")\n"
   ]
  },
  {
   "cell_type": "code",
   "execution_count": 36,
   "metadata": {},
   "outputs": [
    {
     "name": "stderr",
     "output_type": "stream",
     "text": [
      "/Users/duncan/miniconda3/envs/recsys/lib/python3.6/site-packages/pandas/core/indexing.py:362: SettingWithCopyWarning: \n",
      "A value is trying to be set on a copy of a slice from a DataFrame.\n",
      "Try using .loc[row_indexer,col_indexer] = value instead\n",
      "\n",
      "See the caveats in the documentation: http://pandas.pydata.org/pandas-docs/stable/indexing.html#indexing-view-versus-copy\n",
      "  self.obj[key] = _infer_fill_value(value)\n",
      "/Users/duncan/miniconda3/envs/recsys/lib/python3.6/site-packages/pandas/core/indexing.py:543: SettingWithCopyWarning: \n",
      "A value is trying to be set on a copy of a slice from a DataFrame.\n",
      "Try using .loc[row_indexer,col_indexer] = value instead\n",
      "\n",
      "See the caveats in the documentation: http://pandas.pydata.org/pandas-docs/stable/indexing.html#indexing-view-versus-copy\n",
      "  self.obj[item] = s\n"
     ]
    }
   ],
   "source": [
    "### if there are any rows with no metrics, drop them...\n",
    "metric_col_list = [c for c in df_expt.columns if c.startswith(\"test_metric_\") or c.startswith(\"val_metric_\")]\n",
    "df_expt.loc[:, \"all_na_metrics\"] = df_expt[metric_col_list].isna().all(axis=1)\n",
    "df_expt = df_expt.loc[~df_expt[\"all_na_metrics\"], :]"
   ]
  },
  {
   "cell_type": "markdown",
   "metadata": {},
   "source": [
    "## count number of datasets with results for each alg. remove algs with <10 results"
   ]
  },
  {
   "cell_type": "code",
   "execution_count": 39,
   "metadata": {},
   "outputs": [
    {
     "data": {
      "text/plain": [
       "alg_name\n",
       "SpectralCF_RecommenderWrapper            7\n",
       "INeuRec_RecommenderWrapper               8\n",
       "DELF_EF_RecommenderWrapper              10\n",
       "DELF_MLP_RecommenderWrapper             10\n",
       "MFBPR_Wrapper                           21\n",
       "UNeuRec_RecommenderWrapper              41\n",
       "SlopeOne                                48\n",
       "Random                                  85\n",
       "GlobalEffects                           85\n",
       "TopPop                                  85\n",
       "Mult_VAE_RecommenderWrapper             88\n",
       "ItemKNNCF_euclidean                   1916\n",
       "UserKNNCF_euclidean                   2066\n",
       "ItemKNNCF_cosine                      2154\n",
       "UserKNNCF_cosine                      2178\n",
       "ItemKNNCF_tversky                     2194\n",
       "ItemKNNCF_jaccard                     2200\n",
       "ItemKNNCF_dice                        2200\n",
       "UserKNNCF_tversky                     2212\n",
       "UserKNNCF_jaccard                     2213\n",
       "UserKNNCF_asymmetric                  2213\n",
       "ItemKNNCF_asymmetric                  2243\n",
       "UserKNNCF_dice                        2275\n",
       "NMFRecommender                        2957\n",
       "IALSRecommender                       3502\n",
       "MatrixFactorization_AsySVD_Cython     4254\n",
       "EASE_R_Recommender                    4376\n",
       "SLIMElasticNetRecommender             4706\n",
       "MatrixFactorization_FunkSVD_Cython    4938\n",
       "CoClustering                          5106\n",
       "SLIM_BPR_Cython                       5176\n",
       "MatrixFactorization_BPR_Cython        5659\n",
       "P3alphaRecommender                    5816\n",
       "RP3betaRecommender                    5900\n",
       "PureSVDRecommender                    6132\n",
       "Name: dataset_name, dtype: int64"
      ]
     },
     "execution_count": 39,
     "metadata": {},
     "output_type": "execute_result"
    }
   ],
   "source": [
    "df_expt.groupby(\"alg_name\")[\"dataset_name\"].count().sort_values(ascending=True)"
   ]
  },
  {
   "cell_type": "code",
   "execution_count": 42,
   "metadata": {},
   "outputs": [
    {
     "name": "stdout",
     "output_type": "stream",
     "text": [
      "dropping rows for algs: ['SpectralCF_RecommenderWrapper', 'INeuRec_RecommenderWrapper', 'DELF_EF_RecommenderWrapper', 'DELF_MLP_RecommenderWrapper', 'MFBPR_Wrapper']\n"
     ]
    }
   ],
   "source": [
    "drop_algs = [\n",
    "    \"SpectralCF_RecommenderWrapper\",\n",
    "    \"INeuRec_RecommenderWrapper\",\n",
    "    \"DELF_EF_RecommenderWrapper\",\n",
    "    \"DELF_MLP_RecommenderWrapper\",\n",
    "    \"MFBPR_Wrapper\",\n",
    "]\n",
    "print(f\"dropping rows for algs: {drop_algs}\")\n",
    "df_expt = df_expt.loc[~df_expt[\"alg_name\"].isin(drop_algs), :]"
   ]
  },
  {
   "cell_type": "markdown",
   "metadata": {},
   "source": [
    "### sanity check 1: make sure that for each alg_name + hyperparameters_source combination all hyperparams are the same. \n",
    "\n",
    "**Note:** if any warnings are printed here, we need to investigate. "
   ]
  },
  {
   "cell_type": "code",
   "execution_count": 43,
   "metadata": {},
   "outputs": [
    {
     "name": "stderr",
     "output_type": "stream",
     "text": [
      "/Users/duncan/miniconda3/envs/recsys/lib/python3.6/site-packages/ipykernel_launcher.py:5: FutureWarning: using a dict on a Series for aggregation\n",
      "is deprecated and will be removed in a future version\n",
      "  \"\"\"\n"
     ]
    }
   ],
   "source": [
    "param_list = [c for c in df_expt.columns if c.startswith(\"param_\")]\n",
    "\n",
    "for param_name in param_list:\n",
    "    x = df_expt.groupby([\"alg_name\", \"hyperparameters_source\"])[param_name].agg(\n",
    "        {\"one_unique_param\": lambda x: len(x.unique()) == 1}\n",
    "    ).reset_index()\n",
    "    if not all(x[\"one_unique_param\"]):\n",
    "        print(f\"WARNING: for param {param_name}, params aren't uniquely defined:\")\n",
    "        print(x[~x[\"one_unique_param\"]])\n",
    "\n",
    "# use a line like this to diagnose issues:\n",
    "# df_expt[(df_expt[\"alg_name\"] == \"ItemKNNCF_asymmetric\") & (df_expt[\"hyperparameters_source\"] == \"random_0\")][[\"experiment_name\"] + param_list]"
   ]
  },
  {
   "cell_type": "markdown",
   "metadata": {},
   "source": [
    "### final cleanup:\n",
    "- define columns \"alg_family\" (e.g., UserKNN) and \"parameterized_alg_name\" (e.g., UserKNN_hparams_1). \n",
    "- param cols\n",
    "- metric cols\n",
    "- runtime\n",
    "- dataset name\n",
    "- dataset split name\n",
    "- dataset source from gcloud"
   ]
  },
  {
   "cell_type": "code",
   "execution_count": 44,
   "metadata": {},
   "outputs": [],
   "source": [
    "keep_cols = [\n",
    "    \"alg_name\",\n",
    "    \"dataset_name\",\n",
    "    \"split_name\",\n",
    "    \"original_split_path\",\n",
    "    \"hyperparameters_source\", \n",
    "    \"time_on_val\",\n",
    "    \"time_on_test\",\n",
    "    \"time_on_train\",\n",
    "] + metric_col_list + param_list\n",
    "\n",
    "final_df = df_expt.loc[:, keep_cols]\n",
    "\n",
    "final_df.rename(columns={\"alg_name\": \"alg_family\"}, inplace=True)\n",
    "\n",
    "# assign a unique identifier for each alg+hyperparam pair\n",
    "final_df.loc[:, \"alg_param_name\"] = \"\"\n",
    "\n",
    "sep = \":\"\n",
    "\n",
    "# for all algs except for KNN, this is straightforward:\n",
    "knn_rows = final_df[\"alg_family\"].str.contains(\"KNN\")\n",
    "final_df.loc[~knn_rows, \"alg_param_name\"] = final_df.loc[~knn_rows, :].apply(lambda x: x[\"alg_family\"] + sep + x[\"hyperparameters_source\"], axis=1)\n",
    "\n",
    "# for KNN rows, the alg family is UserKNN or ItemKNN, not including similarity...\n",
    "knn_basename = final_df.loc[knn_rows, \"alg_family\"].apply(lambda x: x.split(\"_\")[0])\n",
    "knn_sim = final_df.loc[knn_rows, \"alg_family\"].apply(lambda x: x.split(\"_\")[1])\n",
    "final_df.loc[knn_rows, \"alg_family\"] = knn_basename  # either UserKNN or ItemKNN\n",
    "final_df.loc[knn_rows, \"alg_param_name\"] = knn_basename + sep + knn_sim + \"_\" + final_df.loc[knn_rows, \"hyperparameters_source\"]\n",
    "\n"
   ]
  },
  {
   "cell_type": "markdown",
   "metadata": {},
   "source": [
    "### sanity check 2: check whether there are multiple rows for each alg + hyperparam + dataset combination. if so, make sure the results are identical"
   ]
  },
  {
   "cell_type": "code",
   "execution_count": 45,
   "metadata": {},
   "outputs": [
    {
     "name": "stdout",
     "output_type": "stream",
     "text": [
      "number of alg+param+dataset combinations with multiple results: 140\n"
     ]
    }
   ],
   "source": [
    "z = final_df.groupby([\"alg_param_name\", \"original_split_path\"]).size().rename(\"num_rows\").reset_index()\n",
    "z_multiple = z[z['num_rows'] > 1]\n",
    "print(f\"number of alg+param+dataset combinations with multiple results: {len(z_multiple)}\")"
   ]
  },
  {
   "cell_type": "code",
   "execution_count": 46,
   "metadata": {},
   "outputs": [
    {
     "name": "stdout",
     "output_type": "stream",
     "text": [
      "WARNING: difference between multiple results is non-negligible for alg=Mult_VAE_RecommenderWrapper:default, dataset=gs://reczilla-results/dataset-splits/splits-v5/AmazonJazz/DataSplitter_leave_k_out_last\n",
      "WARNING: difference between multiple results is non-negligible for alg=Mult_VAE_RecommenderWrapper:default, dataset=gs://reczilla-results/dataset-splits/splits-v5/AmazonKitchenDining/DataSplitter_leave_k_out_last\n",
      "WARNING: difference between multiple results is non-negligible for alg=Mult_VAE_RecommenderWrapper:default, dataset=gs://reczilla-results/dataset-splits/splits-v5/AmazonLatinMusic/DataSplitter_leave_k_out_last\n",
      "WARNING: difference between multiple results is non-negligible for alg=Mult_VAE_RecommenderWrapper:default, dataset=gs://reczilla-results/dataset-splits/splits-v5/AmazonLuxuryBeauty/DataSplitter_leave_k_out_last\n",
      "WARNING: difference between multiple results is non-negligible for alg=Mult_VAE_RecommenderWrapper:default, dataset=gs://reczilla-results/dataset-splits/splits-v5/AmazonMP3PlayersAccessories/DataSplitter_leave_k_out_last\n",
      "WARNING: difference between multiple results is non-negligible for alg=Mult_VAE_RecommenderWrapper:default, dataset=gs://reczilla-results/dataset-splits/splits-v5/AmazonMagazineSubscriptions/DataSplitter_leave_k_out_last\n",
      "WARNING: difference between multiple results is non-negligible for alg=Mult_VAE_RecommenderWrapper:default, dataset=gs://reczilla-results/dataset-splits/splits-v5/AmazonMiscellaneous/DataSplitter_leave_k_out_last\n",
      "WARNING: difference between multiple results is non-negligible for alg=Mult_VAE_RecommenderWrapper:default, dataset=gs://reczilla-results/dataset-splits/splits-v5/AmazonMusicalInstruments/DataSplitter_leave_k_out_last\n",
      "WARNING: difference between multiple results is non-negligible for alg=Mult_VAE_RecommenderWrapper:default, dataset=gs://reczilla-results/dataset-splits/splits-v5/AmazonNewAge/DataSplitter_leave_k_out_last\n",
      "WARNING: difference between multiple results is non-negligible for alg=Mult_VAE_RecommenderWrapper:default, dataset=gs://reczilla-results/dataset-splits/splits-v5/AmazonOfficeProducts/DataSplitter_leave_k_out_last\n",
      "WARNING: difference between multiple results is non-negligible for alg=Mult_VAE_RecommenderWrapper:default, dataset=gs://reczilla-results/dataset-splits/splits-v5/AmazonOfficeSchoolSupplies/DataSplitter_leave_k_out_last\n",
      "WARNING: difference between multiple results is non-negligible for alg=Mult_VAE_RecommenderWrapper:default, dataset=gs://reczilla-results/dataset-splits/splits-v5/AmazonPatioLawnGarden/DataSplitter_leave_k_out_last\n",
      "WARNING: difference between multiple results is non-negligible for alg=Mult_VAE_RecommenderWrapper:default, dataset=gs://reczilla-results/dataset-splits/splits-v5/AmazonPetSupplies/DataSplitter_leave_k_out_last\n",
      "WARNING: difference between multiple results is non-negligible for alg=Mult_VAE_RecommenderWrapper:default, dataset=gs://reczilla-results/dataset-splits/splits-v5/AmazonPop/DataSplitter_leave_k_out_last\n",
      "WARNING: difference between multiple results is non-negligible for alg=Mult_VAE_RecommenderWrapper:default, dataset=gs://reczilla-results/dataset-splits/splits-v5/AmazonRB/DataSplitter_leave_k_out_last\n",
      "WARNING: difference between multiple results is non-negligible for alg=Mult_VAE_RecommenderWrapper:default, dataset=gs://reczilla-results/dataset-splits/splits-v5/AmazonRapHipHop/DataSplitter_leave_k_out_last\n",
      "WARNING: difference between multiple results is non-negligible for alg=Mult_VAE_RecommenderWrapper:default, dataset=gs://reczilla-results/dataset-splits/splits-v5/AmazonRock/DataSplitter_leave_k_out_last\n",
      "WARNING: difference between multiple results is non-negligible for alg=Mult_VAE_RecommenderWrapper:default, dataset=gs://reczilla-results/dataset-splits/splits-v5/AmazonSoftware/DataSplitter_leave_k_out_last\n",
      "WARNING: difference between multiple results is non-negligible for alg=Mult_VAE_RecommenderWrapper:default, dataset=gs://reczilla-results/dataset-splits/splits-v5/AmazonVideoGames/DataSplitter_leave_k_out_last\n",
      "WARNING: difference between multiple results is non-negligible for alg=Mult_VAE_RecommenderWrapper:default, dataset=gs://reczilla-results/dataset-splits/splits-v5/AmazonWine/DataSplitter_leave_k_out_last\n",
      "dropping duplicates...\n"
     ]
    }
   ],
   "source": [
    "if len(z_multiple) > 0:\n",
    "\n",
    "    # for each combination with multiple rows, find the difference in metric values between first two rows\n",
    "    for i, (a_p_n, o_s_p) in z_multiple[[\"alg_param_name\", \"original_split_path\"]].iterrows():\n",
    "        row_data = final_df.loc[(final_df[\"alg_param_name\"] == a_p_n) & (final_df[\"original_split_path\"] == o_s_p), metric_col_list].values\n",
    "        if np.linalg.norm(row_data[0, :] - row_data[1, :]) > 1e-5:\n",
    "            print(f\"WARNING: difference between multiple results is non-negligible for alg={a_p_n}, dataset={o_s_p}\")\n",
    "    \n",
    "# # to look into these, slice the df to look at duplicates:\n",
    "# final_df.loc[(final_df[\"alg_param_name\"] == \"Mult_VAE_RecommenderWrapper:default\") & (final_df[\"dataset_name\"] == \"AmazonJazzReader\"), metric_col_list].values\n",
    "\n",
    "    # drop duplicates, keep first row only.\n",
    "    print(\"dropping duplicates...\")\n",
    "    final_df.drop_duplicates(subset=[\"alg_param_name\", \"original_split_path\"], keep=\"first\", inplace=True)\n"
   ]
  },
  {
   "cell_type": "code",
   "execution_count": 27,
   "metadata": {},
   "outputs": [],
   "source": [
    "# # to look into these, slice the df to look at duplicates:\n",
    "# final_df.loc[(final_df[\"alg_param_name\"] == \"Mult_VAE_RecommenderWrapper:default\") & (final_df[\"dataset_name\"] == \"AmazonJazzReader\")]\n"
   ]
  },
  {
   "cell_type": "markdown",
   "metadata": {},
   "source": [
    "## write results"
   ]
  },
  {
   "cell_type": "code",
   "execution_count": 47,
   "metadata": {},
   "outputs": [],
   "source": [
    "# write the dataset to file\n",
    "out_file = f\"./meta_datasets/{meta_dataset_name}.pkl\"\n",
    "\n",
    "final_df.to_pickle(out_file)\n",
    "\n",
    "# to read this file, do:\n",
    "# final_df_2 = pd.read_pickle(out_file)"
   ]
  },
  {
   "cell_type": "markdown",
   "metadata": {},
   "source": [
    "### Basic numbers"
   ]
  },
  {
   "cell_type": "code",
   "execution_count": 48,
   "metadata": {},
   "outputs": [
    {
     "name": "stdout",
     "output_type": "stream",
     "text": [
      "total number of parameterized algs: 1538\n",
      "total number of datasets: 85\n",
      "total number of rows: 84878\n",
      "--------------------------------------\n",
      "total number of rows for each alg family: alg_family\n",
      "CoClustering                           5106\n",
      "EASE_R_Recommender                     4376\n",
      "GlobalEffects                            85\n",
      "IALSRecommender                        3502\n",
      "ItemKNNCF                             12847\n",
      "MatrixFactorization_AsySVD_Cython      4254\n",
      "MatrixFactorization_BPR_Cython         5659\n",
      "MatrixFactorization_FunkSVD_Cython     4938\n",
      "Mult_VAE_RecommenderWrapper              68\n",
      "NMFRecommender                         2957\n",
      "P3alphaRecommender                     5816\n",
      "PureSVDRecommender                     6132\n",
      "RP3betaRecommender                     5900\n",
      "Random                                   85\n",
      "SLIMElasticNetRecommender              4706\n",
      "SLIM_BPR_Cython                        5176\n",
      "SlopeOne                                 48\n",
      "TopPop                                   85\n",
      "UNeuRec_RecommenderWrapper               41\n",
      "UserKNNCF                             13097\n",
      "dtype: int64\n",
      "--------------------------------------\n",
      "total number of rows for each dataset: original_split_path\n",
      "gs://reczilla-results/dataset-splits/splits-v5/AmazonAllBeauty/DataSplitter_leave_k_out_last                1518\n",
      "gs://reczilla-results/dataset-splits/splits-v5/AmazonAllElectronics/DataSplitter_leave_k_out_last           1515\n",
      "gs://reczilla-results/dataset-splits/splits-v5/AmazonAlternativeRock/DataSplitter_leave_k_out_last          1511\n",
      "gs://reczilla-results/dataset-splits/splits-v5/AmazonAmazonFashion/DataSplitter_leave_k_out_last            1382\n",
      "gs://reczilla-results/dataset-splits/splits-v5/AmazonAmazonInstantVideo/DataSplitter_leave_k_out_last       1045\n",
      "gs://reczilla-results/dataset-splits/splits-v5/AmazonAppliances/DataSplitter_leave_k_out_last               1407\n",
      "gs://reczilla-results/dataset-splits/splits-v5/AmazonAppsforAndroid/DataSplitter_leave_k_out_last            276\n",
      "gs://reczilla-results/dataset-splits/splits-v5/AmazonAppstoreforAndroid/DataSplitter_leave_k_out_last       1505\n",
      "gs://reczilla-results/dataset-splits/splits-v5/AmazonArtsCraftsSewing/DataSplitter_leave_k_out_last          745\n",
      "gs://reczilla-results/dataset-splits/splits-v5/AmazonAutomotive/DataSplitter_leave_k_out_last                356\n",
      "gs://reczilla-results/dataset-splits/splits-v5/AmazonBaby/DataSplitter_leave_k_out_last                      614\n",
      "gs://reczilla-results/dataset-splits/splits-v5/AmazonBabyProducts/DataSplitter_leave_k_out_last             1380\n",
      "gs://reczilla-results/dataset-splits/splits-v5/AmazonBeauty/DataSplitter_leave_k_out_last                    281\n",
      "gs://reczilla-results/dataset-splits/splits-v5/AmazonBlues/DataSplitter_leave_k_out_last                    1505\n",
      "gs://reczilla-results/dataset-splits/splits-v5/AmazonBuyaKindle/DataSplitter_leave_k_out_last               1453\n",
      "gs://reczilla-results/dataset-splits/splits-v5/AmazonCDsVinyl/DataSplitter_leave_k_out_last                  113\n",
      "gs://reczilla-results/dataset-splits/splits-v5/AmazonCellPhonesAccessories/DataSplitter_leave_k_out_last     154\n",
      "gs://reczilla-results/dataset-splits/splits-v5/AmazonChristian/DataSplitter_leave_k_out_last                1511\n",
      "gs://reczilla-results/dataset-splits/splits-v5/AmazonClassical/DataSplitter_leave_k_out_last                1520\n",
      "gs://reczilla-results/dataset-splits/splits-v5/AmazonClothingShoesJewelry/DataSplitter_leave_k_out_last       26\n",
      "gs://reczilla-results/dataset-splits/splits-v5/AmazonCollectiblesFineArt/DataSplitter_leave_k_out_last      1502\n",
      "gs://reczilla-results/dataset-splits/splits-v5/AmazonComputers/DataSplitter_leave_k_out_last                1505\n",
      "gs://reczilla-results/dataset-splits/splits-v5/AmazonCountry/DataSplitter_leave_k_out_last                  1506\n",
      "gs://reczilla-results/dataset-splits/splits-v5/AmazonDanceElectronic/DataSplitter_leave_k_out_last          1525\n",
      "gs://reczilla-results/dataset-splits/splits-v5/AmazonDavis/DataSplitter_leave_k_out_last                    1506\n",
      "gs://reczilla-results/dataset-splits/splits-v5/AmazonDigitalMusic/DataSplitter_leave_k_out_last              443\n",
      "gs://reczilla-results/dataset-splits/splits-v5/AmazonElectronics/DataSplitter_leave_k_out_last                44\n",
      "gs://reczilla-results/dataset-splits/splits-v5/AmazonFolk/DataSplitter_leave_k_out_last                     1507\n",
      "gs://reczilla-results/dataset-splits/splits-v5/AmazonGiftCards/DataSplitter_leave_k_out_last                1519\n",
      "gs://reczilla-results/dataset-splits/splits-v5/AmazonGospel/DataSplitter_leave_k_out_last                   1508\n",
      "                                                                                                            ... \n",
      "gs://reczilla-results/dataset-splits/splits-v5/AmazonRock/DataSplitter_leave_k_out_last                     1499\n",
      "gs://reczilla-results/dataset-splits/splits-v5/AmazonSoftware/DataSplitter_leave_k_out_last                 1243\n",
      "gs://reczilla-results/dataset-splits/splits-v5/AmazonSportsOutdoors/DataSplitter_leave_k_out_last            121\n",
      "gs://reczilla-results/dataset-splits/splits-v5/AmazonToolsHomeImprovement/DataSplitter_leave_k_out_last      314\n",
      "gs://reczilla-results/dataset-splits/splits-v5/AmazonToysGames/DataSplitter_leave_k_out_last                 213\n",
      "gs://reczilla-results/dataset-splits/splits-v5/AmazonVideoGames/DataSplitter_leave_k_out_last                604\n",
      "gs://reczilla-results/dataset-splits/splits-v5/AmazonWine/DataSplitter_leave_k_out_last                     1511\n",
      "gs://reczilla-results/dataset-splits/splits-v5/Anime/DataSplitter_leave_k_out_last                           658\n",
      "gs://reczilla-results/dataset-splits/splits-v5/BookCrossing/DataSplitter_leave_k_out_last                    530\n",
      "gs://reczilla-results/dataset-splits/splits-v5/CiaoDVD/DataSplitter_leave_k_out_last                        1261\n",
      "gs://reczilla-results/dataset-splits/splits-v5/Dating/DataSplitter_leave_k_out_last                          235\n",
      "gs://reczilla-results/dataset-splits/splits-v5/Epinions/DataSplitter_leave_k_out_last                        633\n",
      "gs://reczilla-results/dataset-splits/splits-v5/FilmTrust/DataSplitter_leave_k_out_last                      1385\n",
      "gs://reczilla-results/dataset-splits/splits-v5/Frappe/DataSplitter_leave_k_out_last                         1402\n",
      "gs://reczilla-results/dataset-splits/splits-v5/Gowalla/DataSplitter_leave_k_out_last                         113\n",
      "gs://reczilla-results/dataset-splits/splits-v5/Jester2/DataSplitter_leave_k_out_last                         862\n",
      "gs://reczilla-results/dataset-splits/splits-v5/LastFM/DataSplitter_leave_k_out_last                         1162\n",
      "gs://reczilla-results/dataset-splits/splits-v5/MarketBiasAmazon/DataSplitter_leave_k_out_last               1290\n",
      "gs://reczilla-results/dataset-splits/splits-v5/MarketBiasModCloth/DataSplitter_leave_k_out_last             1398\n",
      "gs://reczilla-results/dataset-splits/splits-v5/MovieTweetings/DataSplitter_leave_k_out_last                  809\n",
      "gs://reczilla-results/dataset-splits/splits-v5/Movielens100K/DataSplitter_leave_k_out_last                  1342\n",
      "gs://reczilla-results/dataset-splits/splits-v5/Movielens10M/DataSplitter_leave_k_out_last                    711\n",
      "gs://reczilla-results/dataset-splits/splits-v5/Movielens1M/DataSplitter_leave_k_out_last                    1184\n",
      "gs://reczilla-results/dataset-splits/splits-v5/Movielens20M/DataSplitter_leave_k_out_last                    350\n",
      "gs://reczilla-results/dataset-splits/splits-v5/MovielensHetrec2011/DataSplitter_leave_k_out_last            1164\n",
      "gs://reczilla-results/dataset-splits/splits-v5/NetflixPrize/DataSplitter_leave_k_out_last                     89\n",
      "gs://reczilla-results/dataset-splits/splits-v5/Recipes/DataSplitter_leave_k_out_last                         501\n",
      "gs://reczilla-results/dataset-splits/splits-v5/Wikilens/DataSplitter_leave_k_out_last                       1355\n",
      "gs://reczilla-results/dataset-splits/splits-v5/YahooMovies/DataSplitter_leave_k_out_last                    1197\n",
      "gs://reczilla-results/dataset-splits/splits-v5/YahooMusic/DataSplitter_leave_k_out_last                       21\n",
      "Length: 85, dtype: int64\n"
     ]
    }
   ],
   "source": [
    "print(f\"total number of parameterized algs: {len(final_df['alg_param_name'].unique())}\")\n",
    "print(f\"total number of datasets: {len(final_df['original_split_path'].unique())}\")\n",
    "print(f\"total number of rows: {len(final_df)}\")\n",
    "print('--------------------------------------')\n",
    "print(f\"total number of rows for each alg family: {final_df.groupby('alg_family').size()}\")\n",
    "print('--------------------------------------')\n",
    "print(f\"total number of rows for each dataset: {final_df.groupby('original_split_path').size()}\")"
   ]
  },
  {
   "cell_type": "code",
   "execution_count": 49,
   "metadata": {},
   "outputs": [
    {
     "data": {
      "text/plain": [
       "alg_family\n",
       "CoClustering                           5106\n",
       "EASE_R_Recommender                     4376\n",
       "GlobalEffects                            85\n",
       "IALSRecommender                        3502\n",
       "ItemKNNCF                             12847\n",
       "MatrixFactorization_AsySVD_Cython      4254\n",
       "MatrixFactorization_BPR_Cython         5659\n",
       "MatrixFactorization_FunkSVD_Cython     4938\n",
       "Mult_VAE_RecommenderWrapper              68\n",
       "NMFRecommender                         2957\n",
       "P3alphaRecommender                     5816\n",
       "PureSVDRecommender                     6132\n",
       "RP3betaRecommender                     5900\n",
       "Random                                   85\n",
       "SLIMElasticNetRecommender              4706\n",
       "SLIM_BPR_Cython                        5176\n",
       "SlopeOne                                 48\n",
       "TopPop                                   85\n",
       "UNeuRec_RecommenderWrapper               41\n",
       "UserKNNCF                             13097\n",
       "dtype: int64"
      ]
     },
     "execution_count": 49,
     "metadata": {},
     "output_type": "execute_result"
    }
   ],
   "source": [
    "final_df.groupby('alg_family').size()"
   ]
  },
  {
   "cell_type": "code",
   "execution_count": null,
   "metadata": {},
   "outputs": [],
   "source": [
    "# check the datasets where we have neural method results"
   ]
  }
 ],
 "metadata": {
  "interpreter": {
   "hash": "9a49d437ec7d70416a2164b1de0841ecb25c4cf254d34094d737b88836beceb4"
  },
  "kernelspec": {
   "display_name": "Python 3.6.13 ('recsys')",
   "language": "python",
   "name": "python3"
  },
  "language_info": {
   "codemirror_mode": {
    "name": "ipython",
    "version": 3
   },
   "file_extension": ".py",
   "mimetype": "text/x-python",
   "name": "python",
   "nbconvert_exporter": "python",
   "pygments_lexer": "ipython3",
   "version": "3.6.13"
  },
  "orig_nbformat": 4
 },
 "nbformat": 4,
 "nbformat_minor": 2
}
