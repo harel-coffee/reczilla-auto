{
 "cells": [
  {
   "cell_type": "markdown",
   "metadata": {},
   "source": [
    "### Analysis of algorithm performance across datasets and metrics for NeurIPS submission\n",
    "\n",
    "For these tables we use the meta-dataset as for the RecZilla pipeline."
   ]
  },
  {
   "cell_type": "code",
   "execution_count": 1,
   "metadata": {},
   "outputs": [],
   "source": [
    "import pandas as pd\n",
    "import numpy as np"
   ]
  },
  {
   "cell_type": "code",
   "execution_count": 3,
   "metadata": {},
   "outputs": [],
   "source": [
    "# updated to use v3\n",
    "\n",
    "df = pd.read_pickle(\"./meta_datasets/metadata-v3.pkl\")\n"
   ]
  },
  {
   "cell_type": "markdown",
   "metadata": {},
   "source": [
    "### Basic metrics, number of experiments, etc\n",
    "\n",
    "There are 88 total dataset splits and 18 algs used during training."
   ]
  },
  {
   "cell_type": "code",
   "execution_count": 4,
   "metadata": {},
   "outputs": [
    {
     "name": "stdout",
     "output_type": "stream",
     "text": [
      "num datasets: 88\n"
     ]
    }
   ],
   "source": [
    "with open(\"./all_datasets.txt\", 'r') as f:\n",
    "    lines = f.readlines()\n",
    "    all_dataset_list = [l.strip() for l in lines]\n",
    "\n",
    "print(f\"num datasets: {len(all_dataset_list)}\")"
   ]
  },
  {
   "cell_type": "code",
   "execution_count": 5,
   "metadata": {},
   "outputs": [
    {
     "name": "stdout",
     "output_type": "stream",
     "text": [
      "number of datasets with results: 85\n",
      "number of algs with results: 25\n",
      "number of results: 84845\n"
     ]
    }
   ],
   "source": [
    "print(f\"number of datasets with results: {len(df['dataset_name'].unique())}\")\n",
    "print(f\"number of algs with results: {len(df['alg_family'].unique())}\")\n",
    "print(f\"number of results: {len(df)}\")"
   ]
  },
  {
   "cell_type": "code",
   "execution_count": 17,
   "metadata": {},
   "outputs": [],
   "source": [
    "# df['dataset_name'].unique()"
   ]
  },
  {
   "cell_type": "code",
   "execution_count": 6,
   "metadata": {},
   "outputs": [
    {
     "name": "stdout",
     "output_type": "stream",
     "text": [
      "number of rows for each alg family\n",
      "alg_family\n",
      "CoClustering                           5106\n",
      "DELF_EF_RecommenderWrapper                8\n",
      "DELF_MLP_RecommenderWrapper               8\n",
      "EASE_R_Recommender                     4376\n",
      "GlobalEffects                            85\n",
      "IALSRecommender                        3502\n",
      "INeuRec_RecommenderWrapper               18\n",
      "ItemKNNCF                             12847\n",
      "MFBPR_Wrapper                            21\n",
      "MatrixFactorization_AsySVD_Cython      4254\n",
      "MatrixFactorization_BPR_Cython         5659\n",
      "MatrixFactorization_FunkSVD_Cython     4938\n",
      "Mult_VAE_RecommenderWrapper               5\n",
      "NMFRecommender                         2957\n",
      "P3alphaRecommender                     5816\n",
      "PureSVDRecommender                     6132\n",
      "RP3betaRecommender                     5900\n",
      "Random                                   85\n",
      "SLIMElasticNetRecommender              4706\n",
      "SLIM_BPR_Cython                        5176\n",
      "SlopeOne                                 48\n",
      "SpectralCF_RecommenderWrapper             7\n",
      "TopPop                                   85\n",
      "UNeuRec_RecommenderWrapper                9\n",
      "UserKNNCF                             13097\n",
      "dtype: int64\n"
     ]
    }
   ],
   "source": [
    "print(\"number of rows for each alg family\")\n",
    "print(df.groupby([\"alg_family\"]).size())"
   ]
  },
  {
   "cell_type": "code",
   "execution_count": 7,
   "metadata": {},
   "outputs": [
    {
     "name": "stdout",
     "output_type": "stream",
     "text": [
      "no results for dataset: AmazonBooks\n",
      "no results for dataset: AmazonPurchaseCircles\n",
      "no results for dataset: GoogleLocalReviews\n"
     ]
    }
   ],
   "source": [
    "dataset_expt_counts = df.groupby([\"dataset_name\"]).size()\n",
    "\n",
    "# add datasets that aren't present..\n",
    "for dataset in all_dataset_list:\n",
    "    if dataset + \"Reader\" not in dataset_expt_counts:\n",
    "        dataset_expt_counts[dataset] = 0\n",
    "        print(f\"no results for dataset: {dataset}\")\n",
    "\n"
   ]
  },
  {
   "cell_type": "code",
   "execution_count": 8,
   "metadata": {},
   "outputs": [
    {
     "data": {
      "text/plain": [
       "1219.5"
      ]
     },
     "execution_count": 8,
     "metadata": {},
     "output_type": "execute_result"
    }
   ],
   "source": [
    "dataset_expt_counts.median()"
   ]
  },
  {
   "cell_type": "code",
   "execution_count": 9,
   "metadata": {},
   "outputs": [
    {
     "name": "stdout",
     "output_type": "stream",
     "text": [
      "wrote table to csv: ./tables/runtime_table.csv and tex: ./tables/runtime_table.tex\n"
     ]
    }
   ],
   "source": [
    "### get min, median, and max runtime for each alg\n",
    "agg_dict_time = {\n",
    "    \"time_on_train\": [\"min\", \"mean\", \"max\"],\n",
    "    # \"time_on_val\": [\"min\", \"mean\", \"max\"],\n",
    "    \"time_on_test\": [\"min\", \"mean\", \"max\"],    \n",
    "    \"alg_family\": [\"size\"],    \n",
    "}\n",
    "df_runtime = df.groupby(\"alg_family\").agg(agg_dict_time)\n",
    "\n",
    "# write to latex table\n",
    "# export table 2\n",
    "tex_name = f\"./tables/runtime_table.tex\"\n",
    "csv_name = f\"./tables/runtime_table.csv\"\n",
    "df_runtime.to_csv(csv_name, index=True)\n",
    "with open(tex_name, \"w\") as f:\n",
    "    df_runtime.to_latex(f, index=True, escape=False, float_format=\"%.2f\")\n",
    "print(f\"wrote table to csv: {csv_name} and tex: {tex_name}\")"
   ]
  },
  {
   "cell_type": "code",
   "execution_count": 9,
   "metadata": {},
   "outputs": [
    {
     "data": {
      "text/html": [
       "<div>\n",
       "<style scoped>\n",
       "    .dataframe tbody tr th:only-of-type {\n",
       "        vertical-align: middle;\n",
       "    }\n",
       "\n",
       "    .dataframe tbody tr th {\n",
       "        vertical-align: top;\n",
       "    }\n",
       "\n",
       "    .dataframe thead tr th {\n",
       "        text-align: left;\n",
       "    }\n",
       "\n",
       "    .dataframe thead tr:last-of-type th {\n",
       "        text-align: right;\n",
       "    }\n",
       "</style>\n",
       "<table border=\"1\" class=\"dataframe\">\n",
       "  <thead>\n",
       "    <tr>\n",
       "      <th></th>\n",
       "      <th colspan=\"3\" halign=\"left\">time_on_train</th>\n",
       "      <th colspan=\"3\" halign=\"left\">time_on_test</th>\n",
       "      <th>alg_family</th>\n",
       "    </tr>\n",
       "    <tr>\n",
       "      <th></th>\n",
       "      <th>min</th>\n",
       "      <th>mean</th>\n",
       "      <th>max</th>\n",
       "      <th>min</th>\n",
       "      <th>mean</th>\n",
       "      <th>max</th>\n",
       "      <th>size</th>\n",
       "    </tr>\n",
       "    <tr>\n",
       "      <th>alg_family</th>\n",
       "      <th></th>\n",
       "      <th></th>\n",
       "      <th></th>\n",
       "      <th></th>\n",
       "      <th></th>\n",
       "      <th></th>\n",
       "      <th></th>\n",
       "    </tr>\n",
       "  </thead>\n",
       "  <tbody>\n",
       "    <tr>\n",
       "      <th>CoClustering</th>\n",
       "      <td>0.017557</td>\n",
       "      <td>167.452175</td>\n",
       "      <td>25766.229633</td>\n",
       "      <td>0.054886</td>\n",
       "      <td>51.086023</td>\n",
       "      <td>11393.358884</td>\n",
       "      <td>5106</td>\n",
       "    </tr>\n",
       "    <tr>\n",
       "      <th>EASE_R_Recommender</th>\n",
       "      <td>0.002660</td>\n",
       "      <td>13.849628</td>\n",
       "      <td>454.139277</td>\n",
       "      <td>0.053583</td>\n",
       "      <td>14.990186</td>\n",
       "      <td>341.970452</td>\n",
       "      <td>4376</td>\n",
       "    </tr>\n",
       "    <tr>\n",
       "      <th>GlobalEffects</th>\n",
       "      <td>0.002471</td>\n",
       "      <td>0.430198</td>\n",
       "      <td>12.728573</td>\n",
       "      <td>0.052444</td>\n",
       "      <td>639.580678</td>\n",
       "      <td>8191.357315</td>\n",
       "      <td>85</td>\n",
       "    </tr>\n",
       "    <tr>\n",
       "      <th>IALSRecommender</th>\n",
       "      <td>0.690905</td>\n",
       "      <td>369.297258</td>\n",
       "      <td>24283.544810</td>\n",
       "      <td>0.054589</td>\n",
       "      <td>10.255598</td>\n",
       "      <td>3558.969311</td>\n",
       "      <td>3502</td>\n",
       "    </tr>\n",
       "    <tr>\n",
       "      <th>ItemKNNCF</th>\n",
       "      <td>0.002062</td>\n",
       "      <td>100.283757</td>\n",
       "      <td>13617.510515</td>\n",
       "      <td>0.050831</td>\n",
       "      <td>159.028128</td>\n",
       "      <td>8192.899661</td>\n",
       "      <td>12847</td>\n",
       "    </tr>\n",
       "    <tr>\n",
       "      <th>MatrixFactorization_AsySVD_Cython</th>\n",
       "      <td>0.025652</td>\n",
       "      <td>207.755339</td>\n",
       "      <td>28463.527275</td>\n",
       "      <td>0.054751</td>\n",
       "      <td>40.368085</td>\n",
       "      <td>13293.735288</td>\n",
       "      <td>4254</td>\n",
       "    </tr>\n",
       "    <tr>\n",
       "      <th>MatrixFactorization_BPR_Cython</th>\n",
       "      <td>0.022732</td>\n",
       "      <td>82.185424</td>\n",
       "      <td>9635.263668</td>\n",
       "      <td>0.055468</td>\n",
       "      <td>69.988056</td>\n",
       "      <td>12117.408730</td>\n",
       "      <td>5659</td>\n",
       "    </tr>\n",
       "    <tr>\n",
       "      <th>MatrixFactorization_FunkSVD_Cython</th>\n",
       "      <td>0.023347</td>\n",
       "      <td>172.606193</td>\n",
       "      <td>15650.111933</td>\n",
       "      <td>0.054467</td>\n",
       "      <td>50.488467</td>\n",
       "      <td>12793.543738</td>\n",
       "      <td>4938</td>\n",
       "    </tr>\n",
       "    <tr>\n",
       "      <th>NMFRecommender</th>\n",
       "      <td>0.006802</td>\n",
       "      <td>221.503106</td>\n",
       "      <td>20369.452757</td>\n",
       "      <td>0.055974</td>\n",
       "      <td>87.415148</td>\n",
       "      <td>11471.295282</td>\n",
       "      <td>2957</td>\n",
       "    </tr>\n",
       "    <tr>\n",
       "      <th>P3alphaRecommender</th>\n",
       "      <td>0.002743</td>\n",
       "      <td>78.167283</td>\n",
       "      <td>6264.473410</td>\n",
       "      <td>0.054138</td>\n",
       "      <td>62.403027</td>\n",
       "      <td>6563.457628</td>\n",
       "      <td>5816</td>\n",
       "    </tr>\n",
       "    <tr>\n",
       "      <th>PureSVDRecommender</th>\n",
       "      <td>0.003427</td>\n",
       "      <td>3.580843</td>\n",
       "      <td>353.117155</td>\n",
       "      <td>0.052609</td>\n",
       "      <td>99.062664</td>\n",
       "      <td>10393.312854</td>\n",
       "      <td>6132</td>\n",
       "    </tr>\n",
       "    <tr>\n",
       "      <th>RP3betaRecommender</th>\n",
       "      <td>0.002807</td>\n",
       "      <td>80.449131</td>\n",
       "      <td>7043.173153</td>\n",
       "      <td>0.052987</td>\n",
       "      <td>61.238623</td>\n",
       "      <td>7067.746515</td>\n",
       "      <td>5900</td>\n",
       "    </tr>\n",
       "    <tr>\n",
       "      <th>Random</th>\n",
       "      <td>0.001203</td>\n",
       "      <td>0.087618</td>\n",
       "      <td>2.351918</td>\n",
       "      <td>0.056785</td>\n",
       "      <td>937.672544</td>\n",
       "      <td>16529.636103</td>\n",
       "      <td>85</td>\n",
       "    </tr>\n",
       "    <tr>\n",
       "      <th>SLIMElasticNetRecommender</th>\n",
       "      <td>0.059865</td>\n",
       "      <td>142.951411</td>\n",
       "      <td>25731.735380</td>\n",
       "      <td>0.053670</td>\n",
       "      <td>11.629995</td>\n",
       "      <td>1816.687042</td>\n",
       "      <td>4706</td>\n",
       "    </tr>\n",
       "    <tr>\n",
       "      <th>SLIM_BPR_Cython</th>\n",
       "      <td>0.028665</td>\n",
       "      <td>82.574888</td>\n",
       "      <td>31063.867415</td>\n",
       "      <td>0.053819</td>\n",
       "      <td>21.893782</td>\n",
       "      <td>1962.253756</td>\n",
       "      <td>5176</td>\n",
       "    </tr>\n",
       "    <tr>\n",
       "      <th>SlopeOne</th>\n",
       "      <td>0.048464</td>\n",
       "      <td>17.728445</td>\n",
       "      <td>470.274466</td>\n",
       "      <td>0.066031</td>\n",
       "      <td>45.771332</td>\n",
       "      <td>803.246600</td>\n",
       "      <td>48</td>\n",
       "    </tr>\n",
       "    <tr>\n",
       "      <th>TopPop</th>\n",
       "      <td>0.001328</td>\n",
       "      <td>0.127093</td>\n",
       "      <td>3.660060</td>\n",
       "      <td>0.052064</td>\n",
       "      <td>626.501920</td>\n",
       "      <td>7501.844090</td>\n",
       "      <td>85</td>\n",
       "    </tr>\n",
       "    <tr>\n",
       "      <th>UserKNNCF</th>\n",
       "      <td>0.001711</td>\n",
       "      <td>73.278972</td>\n",
       "      <td>30975.030312</td>\n",
       "      <td>0.051867</td>\n",
       "      <td>158.072905</td>\n",
       "      <td>6327.458123</td>\n",
       "      <td>13097</td>\n",
       "    </tr>\n",
       "  </tbody>\n",
       "</table>\n",
       "</div>"
      ],
      "text/plain": [
       "                                   time_on_train                            \\\n",
       "                                             min        mean           max   \n",
       "alg_family                                                                   \n",
       "CoClustering                            0.017557  167.452175  25766.229633   \n",
       "EASE_R_Recommender                      0.002660   13.849628    454.139277   \n",
       "GlobalEffects                           0.002471    0.430198     12.728573   \n",
       "IALSRecommender                         0.690905  369.297258  24283.544810   \n",
       "ItemKNNCF                               0.002062  100.283757  13617.510515   \n",
       "MatrixFactorization_AsySVD_Cython       0.025652  207.755339  28463.527275   \n",
       "MatrixFactorization_BPR_Cython          0.022732   82.185424   9635.263668   \n",
       "MatrixFactorization_FunkSVD_Cython      0.023347  172.606193  15650.111933   \n",
       "NMFRecommender                          0.006802  221.503106  20369.452757   \n",
       "P3alphaRecommender                      0.002743   78.167283   6264.473410   \n",
       "PureSVDRecommender                      0.003427    3.580843    353.117155   \n",
       "RP3betaRecommender                      0.002807   80.449131   7043.173153   \n",
       "Random                                  0.001203    0.087618      2.351918   \n",
       "SLIMElasticNetRecommender               0.059865  142.951411  25731.735380   \n",
       "SLIM_BPR_Cython                         0.028665   82.574888  31063.867415   \n",
       "SlopeOne                                0.048464   17.728445    470.274466   \n",
       "TopPop                                  0.001328    0.127093      3.660060   \n",
       "UserKNNCF                               0.001711   73.278972  30975.030312   \n",
       "\n",
       "                                   time_on_test                            \\\n",
       "                                            min        mean           max   \n",
       "alg_family                                                                  \n",
       "CoClustering                           0.054886   51.086023  11393.358884   \n",
       "EASE_R_Recommender                     0.053583   14.990186    341.970452   \n",
       "GlobalEffects                          0.052444  639.580678   8191.357315   \n",
       "IALSRecommender                        0.054589   10.255598   3558.969311   \n",
       "ItemKNNCF                              0.050831  159.028128   8192.899661   \n",
       "MatrixFactorization_AsySVD_Cython      0.054751   40.368085  13293.735288   \n",
       "MatrixFactorization_BPR_Cython         0.055468   69.988056  12117.408730   \n",
       "MatrixFactorization_FunkSVD_Cython     0.054467   50.488467  12793.543738   \n",
       "NMFRecommender                         0.055974   87.415148  11471.295282   \n",
       "P3alphaRecommender                     0.054138   62.403027   6563.457628   \n",
       "PureSVDRecommender                     0.052609   99.062664  10393.312854   \n",
       "RP3betaRecommender                     0.052987   61.238623   7067.746515   \n",
       "Random                                 0.056785  937.672544  16529.636103   \n",
       "SLIMElasticNetRecommender              0.053670   11.629995   1816.687042   \n",
       "SLIM_BPR_Cython                        0.053819   21.893782   1962.253756   \n",
       "SlopeOne                               0.066031   45.771332    803.246600   \n",
       "TopPop                                 0.052064  626.501920   7501.844090   \n",
       "UserKNNCF                              0.051867  158.072905   6327.458123   \n",
       "\n",
       "                                   alg_family  \n",
       "                                         size  \n",
       "alg_family                                     \n",
       "CoClustering                             5106  \n",
       "EASE_R_Recommender                       4376  \n",
       "GlobalEffects                              85  \n",
       "IALSRecommender                          3502  \n",
       "ItemKNNCF                               12847  \n",
       "MatrixFactorization_AsySVD_Cython        4254  \n",
       "MatrixFactorization_BPR_Cython           5659  \n",
       "MatrixFactorization_FunkSVD_Cython       4938  \n",
       "NMFRecommender                           2957  \n",
       "P3alphaRecommender                       5816  \n",
       "PureSVDRecommender                       6132  \n",
       "RP3betaRecommender                       5900  \n",
       "Random                                     85  \n",
       "SLIMElasticNetRecommender                4706  \n",
       "SLIM_BPR_Cython                          5176  \n",
       "SlopeOne                                   48  \n",
       "TopPop                                     85  \n",
       "UserKNNCF                               13097  "
      ]
     },
     "execution_count": 9,
     "metadata": {},
     "output_type": "execute_result"
    }
   ],
   "source": [
    "df_runtime"
   ]
  },
  {
   "cell_type": "markdown",
   "metadata": {},
   "source": [
    "### Calculate best metric for each dataset split, over all algs + hyperparam sets."
   ]
  },
  {
   "cell_type": "code",
   "execution_count": 10,
   "metadata": {},
   "outputs": [
    {
     "name": "stdout",
     "output_type": "stream",
     "text": [
      "['test_metric_NDCG_cut_2', 'test_metric_NDCG_cut_5', 'test_metric_NDCG_cut_10', 'test_metric_PRECISION_cut_2', 'test_metric_PRECISION_cut_5', 'test_metric_PRECISION_cut_10', 'test_metric_RECALL_cut_2', 'test_metric_RECALL_cut_5', 'test_metric_RECALL_cut_10', 'test_metric_F1_cut_2', 'test_metric_F1_cut_5', 'test_metric_F1_cut_10']\n"
     ]
    }
   ],
   "source": [
    "# define a subset of metrics to focus on\n",
    "\n",
    "cuts =  [2, 5, 10] # [1, 2, 5, 10, 50]\n",
    "metrics = [\"NDCG\", \"PRECISION\", \"RECALL\", \"F1\"] #\"COVERAGE_ITEM\", \"COVERAGE_ITEM_HIT\", \"COVERAGE_USER_HIT\"] # \"F1\", \"RECALL\"]\n",
    "metric_list = []\n",
    "metric_name_map = dict()\n",
    "for metric in metrics:\n",
    "    for cut in cuts:\n",
    "        metric_list.append(f\"test_metric_{metric}_cut_{str(cut)}\")\n",
    "        metric_name_map[f\"test_metric_{metric}_cut_{str(cut)}\"] = f\"{metric}@{cut}\"\n",
    "print(metric_list)"
   ]
  },
  {
   "cell_type": "code",
   "execution_count": 11,
   "metadata": {},
   "outputs": [],
   "source": [
    "dataset_col = \"dataset_name\"\n",
    "\n",
    "# get global min and max values for each metric, for each dataset\n",
    "agg_dict = {\n",
    "    metric: [\"min\", \"max\"]\n",
    "    for metric in metric_list\n",
    "}\n",
    "dataset_metric_bounds = df.groupby(dataset_col).agg(agg_dict).reset_index()\n",
    "dataset_alg_metric_bounds = df.groupby([dataset_col, \"alg_family\"]).agg(agg_dict).reset_index()\n",
    "\n",
    "# move to single index - first for global\n",
    "new_col_names = []\n",
    "for v in dataset_metric_bounds.columns.values:\n",
    "    if v[1] in ['min', 'max']:\n",
    "        new_col_names.append('overall_' + v[1] + '_' + v[0])\n",
    "    else:\n",
    "        new_col_names.append(v[0])\n",
    "        \n",
    "dataset_metric_bounds.columns = new_col_names\n",
    "\n",
    "# move to single index - now for dataset-specific\n",
    "new_col_names = []\n",
    "for v in dataset_alg_metric_bounds.columns.values:\n",
    "    if v[1] in ['min', 'max']:\n",
    "        new_col_names.append(v[1] + '_' + v[0])\n",
    "    else:\n",
    "        new_col_names.append(v[0])\n",
    "\n",
    "dataset_alg_metric_bounds.columns = new_col_names\n",
    "\n",
    "# now merge in dataset-specific metric bounds with dataset+alg metric bounds\n",
    "df_expt = dataset_alg_metric_bounds.merge(dataset_metric_bounds, on=dataset_col, how=\"inner\")\n",
    "\n",
    "# now calculate normalized metric value for each metric\n",
    "for metric in metric_list:\n",
    "    df_expt.loc[:, \"normalized_\" + metric] = (df_expt[\"max_\" + metric] - df_expt[\"overall_min_\" + metric]) / (df_expt[\"overall_max_\" + metric] - df_expt[\"overall_min_\" + metric])"
   ]
  },
  {
   "cell_type": "code",
   "execution_count": 12,
   "metadata": {},
   "outputs": [
    {
     "name": "stdout",
     "output_type": "stream",
     "text": [
      "metric = test_metric_F1_cut_10\n",
      "dataset_name    AmazonAppliancesReader  Movielens1MReader  RecipesReader\n",
      "alg_family                                                              \n",
      "GlobalEffects                 0.003260           0.004234       0.000125\n",
      "ItemKNNCF                     0.009653           0.041046       0.004580\n",
      "NMFRecommender                0.007620           0.021822       0.002742\n",
      "Random                        0.000000           0.000166       0.000000\n",
      "TopPop                        0.003961           0.013992       0.003548\n",
      "UserKNNCF                     0.007319           0.017885       0.001017\n",
      "\n",
      "\n",
      "metric = test_metric_F1_cut_10\n",
      "dataset_name    AmazonAppliancesReader  Movielens1MReader  RecipesReader\n",
      "alg_family                                                              \n",
      "GlobalEffects                 0.006467           0.013454       0.000153\n",
      "ItemKNNCF                     0.013280           0.057291       0.006370\n",
      "NMFRecommender                0.010432           0.036664       0.005158\n",
      "Random                        0.000905           0.000602       0.000000\n",
      "TopPop                        0.006895           0.021964       0.006370\n",
      "UserKNNCF                     0.011124           0.030052       0.002951\n",
      "\n",
      "\n",
      "metric = test_metric_F1_cut_10\n",
      "dataset_name    AmazonAppliancesReader  Movielens1MReader  RecipesReader\n",
      "alg_family                                                              \n",
      "GlobalEffects                 0.010511           0.017158       0.000460\n",
      "ItemKNNCF                     0.015598           0.069444       0.008092\n",
      "NMFRecommender                0.014832           0.049922       0.007853\n",
      "Random                        0.000905           0.000933       0.000000\n",
      "TopPop                        0.009629           0.030004       0.008038\n",
      "UserKNNCF                     0.013695           0.044321       0.005019\n",
      "\n",
      "\n",
      "metric = test_metric_F1_cut_10\n",
      "dataset_name    AmazonAppliancesReader  Movielens1MReader  RecipesReader\n",
      "alg_family                                                              \n",
      "GlobalEffects                 0.002214           0.002484       0.000099\n",
      "ItemKNNCF                     0.005060           0.023762       0.002651\n",
      "NMFRecommender                0.004744           0.013661       0.001819\n",
      "Random                        0.000000           0.000083       0.000000\n",
      "TopPop                        0.002214           0.008280       0.002383\n",
      "UserKNNCF                     0.005376           0.010929       0.000790\n",
      "\n",
      "\n",
      "metric = test_metric_F1_cut_10\n",
      "dataset_name    AmazonAppliancesReader  Movielens1MReader  RecipesReader\n",
      "alg_family                                                              \n",
      "GlobalEffects                 0.002404           0.005166       0.000051\n",
      "ItemKNNCF                     0.003542           0.016956       0.001906\n",
      "NMFRecommender                0.003922           0.012254       0.001872\n",
      "Random                        0.000380           0.000232       0.000000\n",
      "TopPop                        0.002277           0.006756       0.002194\n",
      "UserKNNCF                     0.003922           0.010002       0.001212\n",
      "\n",
      "\n",
      "metric = test_metric_F1_cut_10\n",
      "dataset_name    AmazonAppliancesReader  Movielens1MReader  RecipesReader\n",
      "alg_family                                                              \n",
      "GlobalEffects                 0.002467           0.003742       0.000127\n",
      "ItemKNNCF                     0.002593           0.012585       0.001483\n",
      "NMFRecommender                0.003163           0.010515       0.001751\n",
      "Random                        0.000190           0.000215       0.000000\n",
      "TopPop                        0.002024           0.005878       0.001630\n",
      "UserKNNCF                     0.002783           0.009670       0.001241\n",
      "\n",
      "\n",
      "metric = test_metric_F1_cut_10\n",
      "dataset_name    AmazonAppliancesReader  Movielens1MReader  RecipesReader\n",
      "alg_family                                                              \n",
      "GlobalEffects                 0.004428           0.004968       0.000197\n",
      "ItemKNNCF                     0.010120           0.047524       0.005301\n",
      "NMFRecommender                0.009488           0.027322       0.003637\n",
      "Random                        0.000000           0.000166       0.000000\n",
      "TopPop                        0.004428           0.016559       0.004765\n",
      "UserKNNCF                     0.010753           0.021858       0.001579\n",
      "\n",
      "\n",
      "metric = test_metric_F1_cut_10\n",
      "dataset_name    AmazonAppliancesReader  Movielens1MReader  RecipesReader\n",
      "alg_family                                                              \n",
      "GlobalEffects                 0.012018           0.025832       0.000254\n",
      "ItemKNNCF                     0.017710           0.084782       0.009531\n",
      "NMFRecommender                0.019608           0.061268       0.009362\n",
      "Random                        0.001898           0.001159       0.000000\n",
      "TopPop                        0.011385           0.033780       0.010969\n",
      "UserKNNCF                     0.019608           0.050008       0.006062\n",
      "\n",
      "\n",
      "metric = test_metric_F1_cut_10\n",
      "dataset_name    AmazonAppliancesReader  Movielens1MReader  RecipesReader\n",
      "alg_family                                                              \n",
      "GlobalEffects                 0.024668           0.037423       0.001269\n",
      "ItemKNNCF                     0.025933           0.125849       0.014832\n",
      "NMFRecommender                0.031626           0.105150       0.017511\n",
      "Random                        0.001898           0.002153       0.000000\n",
      "TopPop                        0.020240           0.058785       0.016298\n",
      "UserKNNCF                     0.027830           0.096705       0.012407\n",
      "\n",
      "\n",
      "metric = test_metric_F1_cut_10\n",
      "dataset_name    AmazonAppliancesReader  Movielens1MReader  RecipesReader\n",
      "alg_family                                                              \n",
      "GlobalEffects                 0.002952           0.003312       0.000132\n",
      "ItemKNNCF                     0.006747           0.031683       0.003534\n",
      "NMFRecommender                0.006325           0.018215       0.002425\n",
      "Random                        0.000000           0.000110       0.000000\n",
      "TopPop                        0.002952           0.011039       0.003177\n",
      "UserKNNCF                     0.007168           0.014572       0.001053\n",
      "\n",
      "\n",
      "metric = test_metric_F1_cut_10\n",
      "dataset_name    AmazonAppliancesReader  Movielens1MReader  RecipesReader\n",
      "alg_family                                                              \n",
      "GlobalEffects                 0.004006           0.008611       0.000085\n",
      "ItemKNNCF                     0.005903           0.028261       0.003177\n",
      "NMFRecommender                0.006536           0.020423       0.003121\n",
      "Random                        0.000633           0.000386       0.000000\n",
      "TopPop                        0.003795           0.011260       0.003656\n",
      "UserKNNCF                     0.006536           0.016669       0.002021\n",
      "\n",
      "\n",
      "metric = test_metric_F1_cut_10\n",
      "dataset_name    AmazonAppliancesReader  Movielens1MReader  RecipesReader\n",
      "alg_family                                                              \n",
      "GlobalEffects                 0.004485           0.006804       0.000231\n",
      "ItemKNNCF                     0.004715           0.022882       0.002697\n",
      "NMFRecommender                0.005750           0.019118       0.003184\n",
      "Random                        0.000345           0.000391       0.000000\n",
      "TopPop                        0.003680           0.010688       0.002963\n",
      "UserKNNCF                     0.005060           0.017583       0.002256\n",
      "\n",
      "\n"
     ]
    }
   ],
   "source": [
    "# spot-check: display the metrics for a handful of algs on a handful of datasets\n",
    "\n",
    "display_alg_names = [\n",
    "    \"GlobalEffects\",\n",
    "    \"Random\",\n",
    "    \"TopPop\",\n",
    "    \"NMFRecommender\",\n",
    "    \"ItemKNNCF\",\n",
    "    \"UserKNNCF\"\n",
    "]\n",
    "max_metric_list = [\"max_\" + metric for metric in metric_list]\n",
    "\n",
    "display_dataset_names = [\n",
    "    \"Movielens1MReader\",\n",
    "    \"RecipesReader\",\n",
    "    \"AmazonAppliancesReader\",\n",
    "]\n",
    "\n",
    "df_display = df_expt.loc[(df_expt[\"alg_family\"].isin(display_alg_names) & df_expt[\"dataset_name\"].isin(display_dataset_names)), [\"alg_family\", \"dataset_name\"] + max_metric_list]\n",
    "\n",
    "for metric_col in max_metric_list:\n",
    "    print(f\"metric = {metric}\")\n",
    "    df_pivot = pd.pivot(df_display, values=metric_col, index=\"alg_family\", columns=\"dataset_name\")\n",
    "    print(df_pivot)\n",
    "    print(\"\\n\")\n",
    "# # df_pivot = pd.pivot(df_display, values=metric_list, index=[\"alg_family\", \"dataset_name\"])\n",
    "# print(df_pivot)\n",
    "    \n"
   ]
  },
  {
   "cell_type": "markdown",
   "metadata": {},
   "source": [
    "calculate ranks of all algs based on the normalized metrics"
   ]
  },
  {
   "cell_type": "code",
   "execution_count": 13,
   "metadata": {},
   "outputs": [
    {
     "name": "stdout",
     "output_type": "stream",
     "text": [
      "dataset_name: 0\n",
      "alg_family: 0\n",
      "min_test_metric_NDCG_cut_2: 8\n",
      "max_test_metric_NDCG_cut_2: 8\n",
      "min_test_metric_NDCG_cut_5: 9\n",
      "max_test_metric_NDCG_cut_5: 9\n",
      "min_test_metric_NDCG_cut_10: 9\n",
      "max_test_metric_NDCG_cut_10: 9\n",
      "min_test_metric_PRECISION_cut_2: 0\n",
      "max_test_metric_PRECISION_cut_2: 0\n",
      "min_test_metric_PRECISION_cut_5: 0\n",
      "max_test_metric_PRECISION_cut_5: 0\n",
      "min_test_metric_PRECISION_cut_10: 0\n",
      "max_test_metric_PRECISION_cut_10: 0\n",
      "min_test_metric_RECALL_cut_2: 0\n",
      "max_test_metric_RECALL_cut_2: 0\n",
      "min_test_metric_RECALL_cut_5: 0\n",
      "max_test_metric_RECALL_cut_5: 0\n",
      "min_test_metric_RECALL_cut_10: 0\n",
      "max_test_metric_RECALL_cut_10: 0\n",
      "min_test_metric_F1_cut_2: 0\n",
      "max_test_metric_F1_cut_2: 0\n",
      "min_test_metric_F1_cut_5: 0\n",
      "max_test_metric_F1_cut_5: 0\n",
      "min_test_metric_F1_cut_10: 0\n",
      "max_test_metric_F1_cut_10: 0\n"
     ]
    }
   ],
   "source": [
    "# how many nans are there for each metric?\n",
    "for c in dataset_alg_metric_bounds.columns:\n",
    "    print(f\"{c}: {sum(dataset_alg_metric_bounds[c].isna())}\")\n"
   ]
  },
  {
   "cell_type": "code",
   "execution_count": 14,
   "metadata": {},
   "outputs": [],
   "source": [
    "# get the rank of each alg within each dataset, for each metric\n",
    "for metric in metric_list:\n",
    "    # rank within dataset\n",
    "    df_expt.loc[:, \"rank_\" + metric] = df_expt.groupby([dataset_col])[\"normalized_\" + metric].rank(method=\"min\", ascending=False).values\n"
   ]
  },
  {
   "cell_type": "markdown",
   "metadata": {},
   "source": [
    "## Correlation between metrics, over all datasets and algs"
   ]
  },
  {
   "cell_type": "code",
   "execution_count": 15,
   "metadata": {},
   "outputs": [],
   "source": [
    "# normalized_metrics = [\"normalized_\" + m for m in metric_list if \"NDCG\" in m or \"MAP\" in m or \"PRECISION\" in m]\n",
    "# metric_names = [metric_name_map[m] for m in metric_list if \"NDCG\" in m or \"MAP\" in m]\n",
    "corr_mat = df_expt.loc[:, [\"normalized_\" + m for m in metric_list]].corr()\n",
    "metric_name_list = [metric_name_map[m] for m in metric_list]"
   ]
  },
  {
   "cell_type": "code",
   "execution_count": 16,
   "metadata": {},
   "outputs": [
    {
     "name": "stderr",
     "output_type": "stream",
     "text": [
      "\n",
      "Bad key savefig.frameon in file /Users/duncan/miniconda3/envs/recsys/lib/python3.6/site-packages/matplotlib/mpl-data/stylelib/_classic_test.mplstyle, line 421 ('savefig.frameon : True')\n",
      "You probably need to get an updated matplotlibrc file from\n",
      "https://github.com/matplotlib/matplotlib/blob/v3.3.4/matplotlibrc.template\n",
      "or from the matplotlib source distribution\n",
      "\n",
      "Bad key verbose.level in file /Users/duncan/miniconda3/envs/recsys/lib/python3.6/site-packages/matplotlib/mpl-data/stylelib/_classic_test.mplstyle, line 472 ('verbose.level  : silent      # one of silent, helpful, debug, debug-annoying')\n",
      "You probably need to get an updated matplotlibrc file from\n",
      "https://github.com/matplotlib/matplotlib/blob/v3.3.4/matplotlibrc.template\n",
      "or from the matplotlib source distribution\n",
      "\n",
      "Bad key verbose.fileo in file /Users/duncan/miniconda3/envs/recsys/lib/python3.6/site-packages/matplotlib/mpl-data/stylelib/_classic_test.mplstyle, line 473 ('verbose.fileo  : sys.stdout  # a log filename, sys.stdout or sys.stderr')\n",
      "You probably need to get an updated matplotlibrc file from\n",
      "https://github.com/matplotlib/matplotlib/blob/v3.3.4/matplotlibrc.template\n",
      "or from the matplotlib source distribution\n",
      "In /Users/duncan/miniconda3/envs/recsys/lib/python3.6/site-packages/matplotlib/mpl-data/stylelib/_classic_test.mplstyle: \n",
      "The text.latex.preview rcparam was deprecated in Matplotlib 3.3 and will be removed two minor releases later.\n",
      "In /Users/duncan/miniconda3/envs/recsys/lib/python3.6/site-packages/matplotlib/mpl-data/stylelib/_classic_test.mplstyle: \n",
      "The mathtext.fallback_to_cm rcparam was deprecated in Matplotlib 3.3 and will be removed two minor releases later.\n",
      "In /Users/duncan/miniconda3/envs/recsys/lib/python3.6/site-packages/matplotlib/mpl-data/stylelib/_classic_test.mplstyle: Support for setting the 'mathtext.fallback_to_cm' rcParam is deprecated since 3.3 and will be removed two minor releases later; use 'mathtext.fallback : 'cm' instead.\n",
      "In /Users/duncan/miniconda3/envs/recsys/lib/python3.6/site-packages/matplotlib/mpl-data/stylelib/_classic_test.mplstyle: \n",
      "The validate_bool_maybe_none function was deprecated in Matplotlib 3.3 and will be removed two minor releases later.\n",
      "In /Users/duncan/miniconda3/envs/recsys/lib/python3.6/site-packages/matplotlib/mpl-data/stylelib/_classic_test.mplstyle: \n",
      "The savefig.jpeg_quality rcparam was deprecated in Matplotlib 3.3 and will be removed two minor releases later.\n",
      "In /Users/duncan/miniconda3/envs/recsys/lib/python3.6/site-packages/matplotlib/mpl-data/stylelib/_classic_test.mplstyle: \n",
      "The keymap.all_axes rcparam was deprecated in Matplotlib 3.3 and will be removed two minor releases later.\n",
      "In /Users/duncan/miniconda3/envs/recsys/lib/python3.6/site-packages/matplotlib/mpl-data/stylelib/_classic_test.mplstyle: \n",
      "The animation.avconv_path rcparam was deprecated in Matplotlib 3.3 and will be removed two minor releases later.\n",
      "In /Users/duncan/miniconda3/envs/recsys/lib/python3.6/site-packages/matplotlib/mpl-data/stylelib/_classic_test.mplstyle: \n",
      "The animation.avconv_args rcparam was deprecated in Matplotlib 3.3 and will be removed two minor releases later.\n"
     ]
    },
    {
     "data": {
      "text/plain": [
       "[Text(0, 0, 'NDCG@2'),\n",
       " Text(0, 1, 'NDCG@5'),\n",
       " Text(0, 2, 'NDCG@10'),\n",
       " Text(0, 3, 'PRECISION@2'),\n",
       " Text(0, 4, 'PRECISION@5'),\n",
       " Text(0, 5, 'PRECISION@10'),\n",
       " Text(0, 6, 'RECALL@2'),\n",
       " Text(0, 7, 'RECALL@5'),\n",
       " Text(0, 8, 'RECALL@10'),\n",
       " Text(0, 9, 'F1@2'),\n",
       " Text(0, 10, 'F1@5'),\n",
       " Text(0, 11, 'F1@10')]"
      ]
     },
     "execution_count": 16,
     "metadata": {},
     "output_type": "execute_result"
    },
    {
     "data": {
      "image/png": "[encoded data removed]",
      "text/plain": [
       "<Figure size 720x720 with 2 Axes>"
      ]
     },
     "metadata": {
      "needs_background": "light"
     },
     "output_type": "display_data"
    }
   ],
   "source": [
    "import matplotlib.pyplot as plt\n",
    "\n",
    "fig, ax = plt.subplots(1, 1, figsize=(10, 10))\n",
    "m = ax.matshow(corr_mat)\n",
    "fig.colorbar(m)\n",
    "xaxis = np.arange(len(corr_mat.columns))\n",
    "ax.set_xticks(xaxis)\n",
    "ax.set_yticks(xaxis)\n",
    "ax.set_xticklabels(metric_name_list, fontsize=14, rotation=45)\n",
    "ax.set_yticklabels(metric_name_list, fontsize=14)\n",
    "\n"
   ]
  },
  {
   "cell_type": "code",
   "execution_count": 17,
   "metadata": {},
   "outputs": [
    {
     "data": {
      "text/plain": [
       "Index(['normalized_test_metric_NDCG_cut_2',\n",
       "       'normalized_test_metric_NDCG_cut_5',\n",
       "       'normalized_test_metric_NDCG_cut_10',\n",
       "       'normalized_test_metric_PRECISION_cut_2',\n",
       "       'normalized_test_metric_PRECISION_cut_5',\n",
       "       'normalized_test_metric_PRECISION_cut_10',\n",
       "       'normalized_test_metric_RECALL_cut_2',\n",
       "       'normalized_test_metric_RECALL_cut_5',\n",
       "       'normalized_test_metric_RECALL_cut_10',\n",
       "       'normalized_test_metric_F1_cut_2', 'normalized_test_metric_F1_cut_5',\n",
       "       'normalized_test_metric_F1_cut_10'],\n",
       "      dtype='object')"
      ]
     },
     "execution_count": 17,
     "metadata": {},
     "output_type": "execute_result"
    }
   ],
   "source": [
    "corr_mat.columns"
   ]
  },
  {
   "cell_type": "markdown",
   "metadata": {},
   "source": [
    "## Table 1: show rank and normalized metrics for all algs, and a sample of datasets"
   ]
  },
  {
   "cell_type": "code",
   "execution_count": 18,
   "metadata": {},
   "outputs": [
    {
     "name": "stdout",
     "output_type": "stream",
     "text": [
      "wrote table to csv: ./tables/table_1_test_metric_NDCG_cut_2.csv and tex: ./tables/table_1_test_metric_NDCG_cut_2.tex\n",
      "wrote table to csv: ./tables/table_1_test_metric_NDCG_cut_5.csv and tex: ./tables/table_1_test_metric_NDCG_cut_5.tex\n",
      "wrote table to csv: ./tables/table_1_test_metric_NDCG_cut_10.csv and tex: ./tables/table_1_test_metric_NDCG_cut_10.tex\n",
      "wrote table to csv: ./tables/table_1_test_metric_PRECISION_cut_2.csv and tex: ./tables/table_1_test_metric_PRECISION_cut_2.tex\n",
      "wrote table to csv: ./tables/table_1_test_metric_PRECISION_cut_5.csv and tex: ./tables/table_1_test_metric_PRECISION_cut_5.tex\n",
      "wrote table to csv: ./tables/table_1_test_metric_PRECISION_cut_10.csv and tex: ./tables/table_1_test_metric_PRECISION_cut_10.tex\n",
      "wrote table to csv: ./tables/table_1_test_metric_RECALL_cut_2.csv and tex: ./tables/table_1_test_metric_RECALL_cut_2.tex\n",
      "wrote table to csv: ./tables/table_1_test_metric_RECALL_cut_5.csv and tex: ./tables/table_1_test_metric_RECALL_cut_5.tex\n",
      "wrote table to csv: ./tables/table_1_test_metric_RECALL_cut_10.csv and tex: ./tables/table_1_test_metric_RECALL_cut_10.tex\n",
      "wrote table to csv: ./tables/table_1_test_metric_F1_cut_2.csv and tex: ./tables/table_1_test_metric_F1_cut_2.tex\n",
      "wrote table to csv: ./tables/table_1_test_metric_F1_cut_5.csv and tex: ./tables/table_1_test_metric_F1_cut_5.tex\n",
      "wrote table to csv: ./tables/table_1_test_metric_F1_cut_10.csv and tex: ./tables/table_1_test_metric_F1_cut_10.tex\n"
     ]
    }
   ],
   "source": [
    "\n",
    "# include cols for these datasets\n",
    "display_datasets = [\n",
    "    \"Movielens1MReader\",\n",
    "    \"Movielens100KReader\",\n",
    "    \"Movielens20MReader\"\n",
    "    \"AmazonMoviesTVReader\",\n",
    "    \"AmazonLuxuryBeautyReader\",\n",
    "    \"AmazonWineReader\"\n",
    "    \"BookCrossingReader\",\n",
    "    \"YahooMoviesReader\",\n",
    "    \"CiaoDVDReader\",\n",
    "    \"MovieTweetingsReader\",\n",
    "    \"AnimeReader\",\n",
    "    \"DatingReader\",\n",
    "    # \"LastFMReader\",  # many NaNs...\n",
    "    \"NetflixPrizeReader\",\n",
    "]\n",
    "\n",
    "for metric_name in metric_list:\n",
    "\n",
    "    display_metric = \"normalized_\" + metric_name\n",
    "    display_rank = \"rank_\" + metric_name\n",
    "\n",
    "    df_expt.loc[:, \"display_text\"] = df_expt.apply(lambda x: \"{:.0f} ({:.2f})\".format(x[display_rank], x[display_metric]), axis=1)\n",
    "\n",
    "    table_1 = df_expt[df_expt[\"dataset_name\"].isin(display_datasets)].pivot(index=\"alg_family\", columns=\"dataset_name\", values=\"display_text\").reset_index()\n",
    "\n",
    "    new_col_names = [c if ~c.endswith(\"Reader\") else c[:-len(\"Reader\")] for c in table_1.columns]\n",
    "    new_col_names[0] = \"Alg.\"\n",
    "    table_1.columns = new_col_names\n",
    "    \n",
    "    # export table 1\n",
    "    csv_name = f\"./tables/table_1_{metric_name}.csv\"\n",
    "    tex_name = f\"./tables/table_1_{metric_name}.tex\"\n",
    "    table_1.to_csv(csv_name, index=False)\n",
    "    with open(tex_name, \"w\") as f:\n",
    "        table_1.to_latex(f, index=False)\n",
    "    print(f\"wrote table to csv: {csv_name} and tex: {tex_name}\")\n"
   ]
  },
  {
   "cell_type": "markdown",
   "metadata": {},
   "source": [
    "## Table 2: show max and min rank over all datasets for each metric."
   ]
  },
  {
   "cell_type": "code",
   "execution_count": 19,
   "metadata": {},
   "outputs": [
    {
     "name": "stdout",
     "output_type": "stream",
     "text": [
      "datasets to drop: {'AmazonFolkReader', 'AmazonGospelReader', 'AmazonRockReader', 'AmazonCollectiblesFineArtReader', 'AmazonBluesReader', 'AmazonRapHipHopReader', 'YahooMusicReader', 'AmazonComputersReader', 'AmazonOfficeSchoolSuppliesReader', 'AmazonCountryReader', 'AmazonLatinMusicReader', 'AmazonHardRockMetalReader', 'AmazonHomeImprovementReader', 'GowallaReader', 'AmazonAllBeautyReader', 'AmazonMP3PlayersAccessoriesReader', 'LastFMReader'}\n",
      "remaining datasets: 68\n",
      "['AmazonAllElectronicsReader' 'AmazonAlternativeRockReader'\n",
      " 'AmazonAmazonFashionReader' 'AmazonAmazonInstantVideoReader'\n",
      " 'AmazonAppliancesReader' 'AmazonAppsforAndroidReader'\n",
      " 'AmazonAppstoreforAndroidReader' 'AmazonArtsCraftsSewingReader'\n",
      " 'AmazonAutomotiveReader' 'AmazonBabyProductsReader' 'AmazonBabyReader'\n",
      " 'AmazonBeautyReader' 'AmazonBuyaKindleReader' 'AmazonCDsVinylReader'\n",
      " 'AmazonCellPhonesAccessoriesReader' 'AmazonChristianReader'\n",
      " 'AmazonClassicalReader' 'AmazonClothingShoesJewelryReader'\n",
      " 'AmazonDanceElectronicReader' 'AmazonDavisReader'\n",
      " 'AmazonDigitalMusicReader' 'AmazonElectronicsReader'\n",
      " 'AmazonGiftCardsReader' 'AmazonGroceryGourmetFoodReader'\n",
      " 'AmazonHealthPersonalCareReader' 'AmazonHomeKitchenReader'\n",
      " 'AmazonIndustrialScientificReader' 'AmazonInternationalReader'\n",
      " 'AmazonJazzReader' 'AmazonKindleStoreReader' 'AmazonKitchenDiningReader'\n",
      " 'AmazonLuxuryBeautyReader' 'AmazonMagazineSubscriptionsReader'\n",
      " 'AmazonMiscellaneousReader' 'AmazonMoviesTVReader'\n",
      " 'AmazonMusicalInstrumentsReader' 'AmazonNewAgeReader'\n",
      " 'AmazonOfficeProductsReader' 'AmazonPatioLawnGardenReader'\n",
      " 'AmazonPetSuppliesReader' 'AmazonPopReader' 'AmazonRBReader'\n",
      " 'AmazonSoftwareReader' 'AmazonSportsOutdoorsReader'\n",
      " 'AmazonToolsHomeImprovementReader' 'AmazonToysGamesReader'\n",
      " 'AmazonVideoGamesReader' 'AmazonWineReader' 'AnimeReader'\n",
      " 'BookCrossingReader' 'CiaoDVDReader' 'DatingReader' 'EpinionsReader'\n",
      " 'FilmTrustReader' 'FrappeReader' 'Jester2Reader' 'MarketBiasAmazonReader'\n",
      " 'MarketBiasModClothReader' 'MovieTweetingsReader' 'Movielens100KReader'\n",
      " 'Movielens10MReader' 'Movielens1MReader' 'Movielens20MReader'\n",
      " 'MovielensHetrec2011Reader' 'NetflixPrizeReader' 'RecipesReader'\n",
      " 'WikilensReader' 'YahooMoviesReader']\n"
     ]
    }
   ],
   "source": [
    "# first show the number of algs with results for each dataset and each metric. (equal to max rank)\n",
    "# only keep datasets which have at least 10 ranked algs for each metric\n",
    "max_rank_table = df_expt.groupby(\"dataset_name\")[[\"rank_\" + m for m in metric_list]].max().reset_index()\n",
    "drop_datasets = []\n",
    "for c in max_rank_table.columns[1:]:\n",
    "    if max_rank_table[c].min() < 10:\n",
    "        # print(f\"WARNING: column {c} has a dataset with only {max_rank_table[c].min()} algs\")\n",
    "        # print(max_rank_table[max_rank_table[c] < 10][[\"dataset_name\", c]])\n",
    "        # print(f\"adding to drop_datasets...\")\n",
    "        drop_datasets.extend(max_rank_table[max_rank_table[c] < 10][\"dataset_name\"])\n",
    "\n",
    "drop_datasets = set(drop_datasets)\n",
    "print(f\"datasets to drop: {drop_datasets}\")\n",
    "\n",
    "df_table_2 = df_expt.loc[~df_expt[\"dataset_name\"].isin(drop_datasets), :]\n",
    "\n",
    "print(f\"remaining datasets: {len(df_table_2['dataset_name'].unique())}\")\n",
    "print(df_table_2['dataset_name'].unique())\n"
   ]
  },
  {
   "cell_type": "code",
   "execution_count": 20,
   "metadata": {},
   "outputs": [
    {
     "data": {
      "text/plain": [
       "array(['CoClustering', 'EASE_R_Recommender', 'GlobalEffects',\n",
       "       'IALSRecommender', 'INeuRec_RecommenderWrapper', 'ItemKNNCF',\n",
       "       'MatrixFactorization_AsySVD_Cython',\n",
       "       'MatrixFactorization_BPR_Cython',\n",
       "       'MatrixFactorization_FunkSVD_Cython', 'NMFRecommender',\n",
       "       'P3alphaRecommender', 'PureSVDRecommender', 'RP3betaRecommender',\n",
       "       'Random', 'SLIMElasticNetRecommender', 'SLIM_BPR_Cython',\n",
       "       'SlopeOne', 'TopPop', 'UserKNNCF', 'UNeuRec_RecommenderWrapper',\n",
       "       'MFBPR_Wrapper', 'Mult_VAE_RecommenderWrapper',\n",
       "       'DELF_EF_RecommenderWrapper', 'DELF_MLP_RecommenderWrapper',\n",
       "       'SpectralCF_RecommenderWrapper'], dtype=object)"
      ]
     },
     "execution_count": 20,
     "metadata": {},
     "output_type": "execute_result"
    }
   ],
   "source": [
    "df_table_2[\"alg_family\"].unique()"
   ]
  },
  {
   "cell_type": "code",
   "execution_count": 56,
   "metadata": {},
   "outputs": [],
   "source": [
    "keep_alg_map = {\n",
    "    \"ItemKNNCF\": {\n",
    "        \"name\": \"Item-KNN\",\n",
    "        \"plt-kwargs\": {\"marker\":\"x\", \"color\":\"r\", \"linestyle\":\":\"}\n",
    "    },\n",
    "    \"UserKNNCF\": {\n",
    "        \"name\": \"User-KNN\",\n",
    "        \"plt-kwargs\": {\"marker\":\"+\", \"color\":\"b\", \"linestyle\":\"--\"}\n",
    "    },\n",
    "    \"INeuRec_RecommenderWrapper\": {\n",
    "        \"name\": \"I-neural\",\n",
    "        \"plt-kwargs\": {\"marker\":\"x\", \"color\":\"c\", \"linestyle\":\":\"}\n",
    "    },\n",
    "    \"P3alphaRecommender\":{\n",
    "        \"name\": \"P3alpha\",\n",
    "        \"plt-kwargs\": {\"marker\":\"^\", \"color\":\"g\", \"linestyle\":\"-.\"}\n",
    "    },\n",
    "    \"MatrixFactorization_BPR_Cython\":\n",
    "    {\n",
    "        \"name\": \"MF-BPR\",\n",
    "        \"plt-kwargs\": {\"marker\":\"v\", \"color\":\"gray\", \"linestyle\":\":\"}\n",
    "    },\n",
    "    \"IALSRecommender\": {\n",
    "        \"name\": \"iALS\",\n",
    "        \"plt-kwargs\": {\"marker\":\"D\", \"color\":\"c\", \"linestyle\":\"--\"}\n",
    "    },\n",
    "    \"SLIM_BPR_Cython\": {\n",
    "        \"name\": \"SLIM-BPR\",\n",
    "        \"plt-kwargs\": {\"marker\":\"s\", \"color\":\"purple\", \"linestyle\":\"-.\"}\n",
    "    },\n",
    "    \"TopPop\": {\n",
    "        \"name\": \"TopPop\",\n",
    "        \"plt-kwargs\": {\"marker\":\"<\", \"color\":\"black\", \"linestyle\":\"-\"}\n",
    "    },\n",
    "    \"Random\":{\n",
    "        \"name\": \"Random\",\n",
    "        \"plt-kwargs\": {\"marker\":\">\", \"color\":\"black\", \"linestyle\":\"-\"}\n",
    "    },\n",
    "}\n",
    "keep_algs = list(keep_alg_map.keys())\n",
    "alg_names = [v[\"name\"] for v in keep_alg_map.values()]\n",
    "\n",
    "# keep_algs = list(df_table_2[\"alg_family\"].unique())\n",
    "\n",
    "# get min and max rank for each alg and each metric over all algs.     each alg = col, row = metric\n",
    "agg_dict = {\n",
    "    \"rank_\" + metric: lambda x: \"{:.0f}/{:.0f} ({:.1f})\".format(min(x), max(x), np.mean(x)) for metric in metric_list\n",
    "}\n",
    "table_2_transpose = df_table_2[df_table_2[\"alg_family\"].isin(keep_algs)].groupby(\"alg_family\").agg(agg_dict).reset_index()\n",
    "\n",
    "table_2 = table_2_transpose.transpose().copy()\n",
    "new_cols = list(table_2.iloc[0,:])\n",
    "table_2.columns = new_cols\n",
    "table_2.drop(labels=(\"alg_family\"), inplace=True)  # drop the first row, which is the alg name\n",
    "\n",
    "# add the order ing\n",
    "table_2.loc[:, \"order\"] = 0\n",
    "for i, metric in enumerate(metric_list):\n",
    "    table_2.at[\"rank_\" + metric, \"order\"] = i\n",
    "\n",
    "# now fix the metric names\n",
    "new_index = []\n",
    "for index_label in table_2.index:\n",
    "    new_index.append(metric_name_map[index_label[len(\"rank_\"):]])\n",
    "table_2.index = new_index\n"
   ]
  },
  {
   "cell_type": "code",
   "execution_count": 57,
   "metadata": {},
   "outputs": [],
   "source": [
    "# bookkeeping - order the rows\n",
    "final_table_2 = table_2.sort_values(\"order\").drop(columns=\"order\")\n",
    "\n",
    "# order the cols\n",
    "final_table_2 = final_table_2.reindex(columns=keep_algs)\n",
    "\n",
    "# bookeeping - rename the cols\n",
    "new_col_names = [\"\\\\rot{\" + keep_alg_map[c][\"name\"] + \"}\" for c in final_table_2.columns]\n",
    "final_table_2.columns = new_col_names\n"
   ]
  },
  {
   "cell_type": "code",
   "execution_count": 58,
   "metadata": {},
   "outputs": [
    {
     "data": {
      "text/plain": [
       "Index(['\\rot{Item-KNN}', '\\rot{User-KNN}', '\\rot{I-neural}', '\\rot{P3alpha}',\n",
       "       '\\rot{MF-BPR}', '\\rot{iALS}', '\\rot{SLIM-BPR}', '\\rot{TopPop}',\n",
       "       '\\rot{Random}'],\n",
       "      dtype='object')"
      ]
     },
     "execution_count": 58,
     "metadata": {},
     "output_type": "execute_result"
    }
   ],
   "source": [
    "final_table_2.columns"
   ]
  },
  {
   "cell_type": "code",
   "execution_count": 59,
   "metadata": {},
   "outputs": [
    {
     "name": "stdout",
     "output_type": "stream",
     "text": [
      "wrote table to csv: ./tables/table_2.csv and tex: ./tables/table_2.tex\n"
     ]
    }
   ],
   "source": [
    "# export table 2\n",
    "csv_name = f\"./tables/table_2.csv\"\n",
    "tex_name = f\"./tables/table_2.tex\"\n",
    "final_table_2.to_csv(csv_name, index=True)\n",
    "with open(tex_name, \"w\") as f:\n",
    "    final_table_2.to_latex(f, index=True, escape=False)\n",
    "print(f\"wrote table to csv: {csv_name} and tex: {tex_name}\")"
   ]
  },
  {
   "cell_type": "markdown",
   "metadata": {},
   "source": [
    "### Plot 1: plot change in metric across dataset for select algs\n",
    "- each line in the series is an alg\n",
    "- horizontal axis = datasets\n",
    "- vertical axis = normalized metric"
   ]
  },
  {
   "cell_type": "code",
   "execution_count": 60,
   "metadata": {},
   "outputs": [],
   "source": [
    "plot_alg_map = keep_alg_map\n",
    "plot_algs = list(keep_alg_map.keys())\n",
    "plot_alg_names = [v[\"name\"] for v in keep_alg_map.values()]\n",
    "\n",
    "plot_dataset_map = {\n",
    "    'AmazonLuxuryBeautyReader': \"Amz-Lux\",\n",
    "    'AmazonMiscellaneousReader': \"Amz-Misc\",\n",
    "    # 'AmazonMusicalInstrumentsReader',\n",
    "    # 'AmazonVideoGamesReader',\n",
    "    'AnimeReader': \"Anime\",\n",
    "    'BookCrossingReader': \"BookCross\",\n",
    "    'CiaoDVDReader': \"CiaoDVD\",\n",
    "    'EpinionsReader': \"Epinions\",\n",
    "    'FilmTrustReader': \"FilmTrust\",\n",
    "    # 'DatingReader',\n",
    "    'Jester2Reader': \"Jester\",\n",
    "    'MarketBiasAmazonReader': \"MktBias-El\",\n",
    "    'MarketBiasModClothReader': \"MktBias-Mod\",\n",
    "    'MovieTweetingsReader': \"MvTweet\",\n",
    "    'Movielens100KReader': \"Mvlns-100K\",\n",
    "    # 'Movielens10MReader',\n",
    "    'Movielens1MReader': \"Mvlns-1M\",\n",
    "    # 'Movielens20MReader',\n",
    "    'MovielensHetrec2011Reader': \"Mvlns-Hetrec\",\n",
    "    # 'NetflixPrizeReader',\n",
    "    'RecipesReader': \"Recipes.\",\n",
    "    'WikilensReader': \"Wikilens\",\n",
    "    'YahooMoviesReader': \"YahooMv.\",\n",
    "}\n",
    "plot_datasets = list(plot_dataset_map.keys())\n",
    "plot_dataset_names = list(plot_dataset_map.values())"
   ]
  },
  {
   "cell_type": "code",
   "execution_count": 61,
   "metadata": {},
   "outputs": [
    {
     "name": "stdout",
     "output_type": "stream",
     "text": [
      "there's an issue with INeuRec_RecommenderWrapper-AmazonLuxuryBeautyReader-normalized_test_metric_PRECISION_cut_10\n",
      "[]\n",
      "there's an issue with INeuRec_RecommenderWrapper-AmazonMiscellaneousReader-normalized_test_metric_PRECISION_cut_10\n",
      "[]\n",
      "there's an issue with INeuRec_RecommenderWrapper-AnimeReader-normalized_test_metric_PRECISION_cut_10\n",
      "[]\n",
      "there's an issue with INeuRec_RecommenderWrapper-BookCrossingReader-normalized_test_metric_PRECISION_cut_10\n",
      "[]\n",
      "there's an issue with INeuRec_RecommenderWrapper-CiaoDVDReader-normalized_test_metric_PRECISION_cut_10\n",
      "[]\n",
      "there's an issue with INeuRec_RecommenderWrapper-EpinionsReader-normalized_test_metric_PRECISION_cut_10\n",
      "[]\n",
      "there's an issue with INeuRec_RecommenderWrapper-Jester2Reader-normalized_test_metric_PRECISION_cut_10\n",
      "[]\n",
      "there's an issue with INeuRec_RecommenderWrapper-MarketBiasAmazonReader-normalized_test_metric_PRECISION_cut_10\n",
      "[]\n",
      "there's an issue with INeuRec_RecommenderWrapper-MovieTweetingsReader-normalized_test_metric_PRECISION_cut_10\n",
      "[]\n",
      "there's an issue with INeuRec_RecommenderWrapper-Movielens1MReader-normalized_test_metric_PRECISION_cut_10\n",
      "[]\n",
      "there's an issue with INeuRec_RecommenderWrapper-RecipesReader-normalized_test_metric_PRECISION_cut_10\n",
      "[]\n",
      "there's an issue with INeuRec_RecommenderWrapper-YahooMoviesReader-normalized_test_metric_PRECISION_cut_10\n",
      "[]\n",
      "there's an issue with INeuRec_RecommenderWrapper-AmazonLuxuryBeautyReader-normalized_test_metric_NDCG_cut_2\n",
      "[]\n",
      "there's an issue with INeuRec_RecommenderWrapper-AmazonMiscellaneousReader-normalized_test_metric_NDCG_cut_2\n",
      "[]\n",
      "there's an issue with INeuRec_RecommenderWrapper-AnimeReader-normalized_test_metric_NDCG_cut_2\n",
      "[]\n",
      "there's an issue with INeuRec_RecommenderWrapper-BookCrossingReader-normalized_test_metric_NDCG_cut_2\n",
      "[]\n",
      "there's an issue with INeuRec_RecommenderWrapper-CiaoDVDReader-normalized_test_metric_NDCG_cut_2\n",
      "[]\n",
      "there's an issue with INeuRec_RecommenderWrapper-EpinionsReader-normalized_test_metric_NDCG_cut_2\n",
      "[]\n",
      "there's an issue with INeuRec_RecommenderWrapper-Jester2Reader-normalized_test_metric_NDCG_cut_2\n",
      "[]\n",
      "there's an issue with INeuRec_RecommenderWrapper-MarketBiasAmazonReader-normalized_test_metric_NDCG_cut_2\n",
      "[]\n",
      "there's an issue with INeuRec_RecommenderWrapper-MovieTweetingsReader-normalized_test_metric_NDCG_cut_2\n",
      "[]\n",
      "there's an issue with INeuRec_RecommenderWrapper-Movielens1MReader-normalized_test_metric_NDCG_cut_2\n",
      "[]\n",
      "there's an issue with INeuRec_RecommenderWrapper-RecipesReader-normalized_test_metric_NDCG_cut_2\n",
      "[]\n",
      "there's an issue with INeuRec_RecommenderWrapper-YahooMoviesReader-normalized_test_metric_NDCG_cut_2\n",
      "[]\n"
     ]
    }
   ],
   "source": [
    "plot_metric_map = {\n",
    "    \"normalized_\" + \"test_metric_PRECISION_cut_10\":  \"PREC@10\",\n",
    "    # \"normalized_\" + \"test_metric_COVERAGE_ITEM_HIT_cut_10\":  \"COV-ITEM-HIT@10\",\n",
    "    # \"normalized_\" + \"test_metric_MAP_cut_10\": \"MAP@10\",\n",
    "    \"normalized_\" + \"test_metric_NDCG_cut_2\": \"NDCG@2\",\n",
    "    #  \"normalized_\" + \"test_metric_NDCG_cut_2\",\n",
    "    # \"normalized_\" + \"test_metric_RECALL_cut_10\": \"Norm. RECALL@10\",\n",
    "}\n",
    "plot_metric_list = list(plot_metric_map.keys())\n",
    "\n",
    "\n",
    "data = dict()\n",
    "\n",
    "for metric_name in plot_metric_list:\n",
    "    data[metric_name] = dict()\n",
    "    for alg in plot_algs:\n",
    "        data[metric_name][alg] = []\n",
    "        for dataset in plot_datasets:\n",
    "            vals = df_expt.loc[(df_expt[\"alg_family\"] == alg) & (df_expt[\"dataset_name\"] == dataset), metric_name].values\n",
    "            if len(vals) != 1:\n",
    "                print(f\"there's an issue with {alg}-{dataset}-{metric_name}\")\n",
    "                print(vals)\n",
    "                val = None\n",
    "            else:\n",
    "                val = vals[0]\n",
    "            data[metric_name][alg].append(val)\n",
    "    \n",
    "\n",
    "\n",
    "# df_table_2"
   ]
  },
  {
   "cell_type": "code",
   "execution_count": 62,
   "metadata": {},
   "outputs": [],
   "source": [
    "# make a plot\n",
    "import matplotlib.pyplot as plt\n",
    "import numpy as np"
   ]
  },
  {
   "cell_type": "code",
   "execution_count": 63,
   "metadata": {},
   "outputs": [
    {
     "data": {
      "text/plain": [
       "'3.3.4'"
      ]
     },
     "execution_count": 63,
     "metadata": {},
     "output_type": "execute_result"
    }
   ],
   "source": [
    "import matplotlib as mpl\n",
    "mpl.__version__"
   ]
  },
  {
   "cell_type": "code",
   "execution_count": 64,
   "metadata": {},
   "outputs": [],
   "source": [
    "import numpy as np"
   ]
  },
  {
   "cell_type": "code",
   "execution_count": 65,
   "metadata": {},
   "outputs": [
    {
     "data": {
      "image/png": "[encoded data removed]",
      "text/plain": [
       "<Figure size 576x360 with 2 Axes>"
      ]
     },
     "metadata": {
      "needs_background": "light"
     },
     "output_type": "display_data"
    }
   ],
   "source": [
    "fig, ax = plt.subplots(len(plot_metric_list), 1, sharex=True, figsize=(8, 5))\n",
    "\n",
    "for i, metric in enumerate(plot_metric_list):\n",
    "    for alg in plot_algs:    \n",
    "        ax[i].plot(data[metric][alg], label=plot_alg_map[alg][\"name\"], markersize=7, **plot_alg_map[alg][\"plt-kwargs\"])\n",
    "    ax[i].set_ylabel(plot_metric_map[metric])\n",
    "\n",
    "ax[i].set_xticks(np.arange(len(plot_dataset_names)))\n",
    "ax[i].set_xticklabels(plot_dataset_names, rotation=-35, ha='left', rotation_mode='anchor')\n",
    "\n",
    "plt.tight_layout()\n",
    "plt.subplots_adjust(hspace=0.08)\n",
    "\n",
    "plt.legend(loc=\"upper center\", bbox_to_anchor=(0.5, 3.5), ncol=len(plot_algs), fontsize=\"small\")\n",
    "# plt.show()\n",
    "plt.savefig(\"./fig/squiggly.pdf\", bbox_inches='tight')"
   ]
  },
  {
   "cell_type": "code",
   "execution_count": null,
   "metadata": {},
   "outputs": [],
   "source": []
  },
  {
   "cell_type": "code",
   "execution_count": null,
   "metadata": {},
   "outputs": [],
   "source": []
  }
 ],
 "metadata": {
  "interpreter": {
   "hash": "9a49d437ec7d70416a2164b1de0841ecb25c4cf254d34094d737b88836beceb4"
  },
  "kernelspec": {
   "display_name": "Python 3.6.13 ('recsys')",
   "language": "python",
   "name": "python3"
  },
  "language_info": {
   "codemirror_mode": {
    "name": "ipython",
    "version": 3
   },
   "file_extension": ".py",
   "mimetype": "text/x-python",
   "name": "python",
   "nbconvert_exporter": "python",
   "pygments_lexer": "ipython3",
   "version": "3.6.13"
  },
  "orig_nbformat": 4
 },
 "nbformat": 4,
 "nbformat_minor": 2
}
